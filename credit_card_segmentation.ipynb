{
 "cells": [
  {
   "cell_type": "markdown",
   "metadata": {},
   "source": [
    "# Objectives Of Data Analysis:\n",
    "### Advanced data preparation: Build an ‘enriched’ customer profile by deriving “intelligent” KPIs such as:\n",
    "\n",
    "1- Monthly average purchase and cash advance amount\n",
    "\n",
    "2- Purchases by type (one-off, installments)\n",
    "\n",
    "3- Average amount per purchase and cash advance transaction,\n",
    "\n",
    "4- Limit usage (balance to credit limit ratio),\n",
    "\n",
    "5- Payments to minimum payments ratio etc.\n",
    "\n",
    "6- Advanced reporting: Use the derived KPIs to gain insight on the customer profiles.\n",
    "\n",
    "7- Identification of the relationships/ affinities between services.\n",
    "\n",
    "8- Clustering: Apply a data reduction technique factor analysis for variable reduction technique and a clustering algorithm  to reveal the behavioural segments of credit card holders\n",
    "\n",
    "9- Identify cluster characterisitics of the cluster using detailed profiling.\n",
    "\n",
    "10- Provide the strategic insights and implementation of strategies for given set of cluster characteristics"
   ]
  },
  {
   "cell_type": "markdown",
   "metadata": {},
   "source": [
    "### Importing Libraries & Reading File"
   ]
  },
  {
   "cell_type": "code",
   "execution_count": 2,
   "metadata": {},
   "outputs": [],
   "source": [
    "import numpy as np\n",
    "import pandas as pd\n",
    "import matplotlib.pyplot as plt\n",
    "\n",
    "# monthly average purchase and cash advance amount\n",
    "# monthly average purchase = totol amount of purchases "
   ]
  },
  {
   "cell_type": "code",
   "execution_count": 3,
   "metadata": {},
   "outputs": [],
   "source": [
    "data = pd.read_csv(\"credit-card-data.csv\")"
   ]
  },
  {
   "cell_type": "markdown",
   "metadata": {},
   "source": [
    "### Attributes Information:\n",
    "● CUST_ID Credit card holder ID\n",
    "\n",
    "● BALANCE Monthly average balance (based on daily balance averages)\n",
    "\n",
    "● BALANCE_FREQUENCY Ratio of last 12 months with balance\n",
    "\n",
    "● PURCHASES Total purchase amount spent during last 12 months\n",
    "\n",
    "● ONEOFF_PURCHASES Total amount of one-off purchases\n",
    "\n",
    "● INSTALLMENTS_PURCHASES Total amount of installment purchases\n",
    "\n",
    "● CASH_ADVANCE Total cash-advance amount\n",
    "\n",
    "● PURCHASES_ FREQUENCY-Frequency of purchases (percentage of months\n",
    "with at least on purchase)\n",
    "\n",
    "● ONEOFF_PURCHASES_FREQUENCY Frequency of one-off-purchases\n",
    "\n",
    "● PURCHASES_INSTALLMENTS_FREQUENCY Frequency of installment\n",
    "purchases\n",
    "\n",
    "● CASH_ADVANCE_ FREQUENCY Cash-Advance frequency\n",
    "\n",
    "● AVERAGE_PURCHASE_TRX Average amount per purchase transaction\n",
    "\n",
    "● CASH_ADVANCE_TRX Average amount per cash-advance transaction\n",
    "\n",
    "● PURCHASES_TRX Average amount per purchase transaction\n",
    "\n",
    "● CREDIT_LIMIT Credit limit\n",
    "\n",
    "● PAYMENTS-Total payments (due amount paid by the customer to decrease their\n",
    "statement balance) in the period\n",
    "\n",
    "● MINIMUM_PAYMENTS Total minimum payments due in the period.\n",
    "\n",
    "● PRC_FULL_PAYMENT- Percentage of months with full payment of the due\n",
    "statement balance\n",
    "\n",
    "● TENURE Number of months as a customer"
   ]
  },
  {
   "cell_type": "code",
   "execution_count": 4,
   "metadata": {},
   "outputs": [
    {
     "data": {
      "text/html": [
       "<div>\n",
       "<style scoped>\n",
       "    .dataframe tbody tr th:only-of-type {\n",
       "        vertical-align: middle;\n",
       "    }\n",
       "\n",
       "    .dataframe tbody tr th {\n",
       "        vertical-align: top;\n",
       "    }\n",
       "\n",
       "    .dataframe thead th {\n",
       "        text-align: right;\n",
       "    }\n",
       "</style>\n",
       "<table border=\"1\" class=\"dataframe\">\n",
       "  <thead>\n",
       "    <tr style=\"text-align: right;\">\n",
       "      <th></th>\n",
       "      <th>CUST_ID</th>\n",
       "      <th>BALANCE</th>\n",
       "      <th>BALANCE_FREQUENCY</th>\n",
       "      <th>PURCHASES</th>\n",
       "      <th>ONEOFF_PURCHASES</th>\n",
       "      <th>INSTALLMENTS_PURCHASES</th>\n",
       "      <th>CASH_ADVANCE</th>\n",
       "      <th>PURCHASES_FREQUENCY</th>\n",
       "      <th>ONEOFF_PURCHASES_FREQUENCY</th>\n",
       "      <th>PURCHASES_INSTALLMENTS_FREQUENCY</th>\n",
       "      <th>CASH_ADVANCE_FREQUENCY</th>\n",
       "      <th>CASH_ADVANCE_TRX</th>\n",
       "      <th>PURCHASES_TRX</th>\n",
       "      <th>CREDIT_LIMIT</th>\n",
       "      <th>PAYMENTS</th>\n",
       "      <th>MINIMUM_PAYMENTS</th>\n",
       "      <th>PRC_FULL_PAYMENT</th>\n",
       "      <th>TENURE</th>\n",
       "    </tr>\n",
       "  </thead>\n",
       "  <tbody>\n",
       "    <tr>\n",
       "      <td>0</td>\n",
       "      <td>C10001</td>\n",
       "      <td>40.900749</td>\n",
       "      <td>0.818182</td>\n",
       "      <td>95.40</td>\n",
       "      <td>0.00</td>\n",
       "      <td>95.40</td>\n",
       "      <td>0.000000</td>\n",
       "      <td>0.166667</td>\n",
       "      <td>0.000000</td>\n",
       "      <td>0.083333</td>\n",
       "      <td>0.000000</td>\n",
       "      <td>0</td>\n",
       "      <td>2</td>\n",
       "      <td>1000.0</td>\n",
       "      <td>201.802084</td>\n",
       "      <td>139.509787</td>\n",
       "      <td>0.000000</td>\n",
       "      <td>12</td>\n",
       "    </tr>\n",
       "    <tr>\n",
       "      <td>1</td>\n",
       "      <td>C10002</td>\n",
       "      <td>3202.467416</td>\n",
       "      <td>0.909091</td>\n",
       "      <td>0.00</td>\n",
       "      <td>0.00</td>\n",
       "      <td>0.00</td>\n",
       "      <td>6442.945483</td>\n",
       "      <td>0.000000</td>\n",
       "      <td>0.000000</td>\n",
       "      <td>0.000000</td>\n",
       "      <td>0.250000</td>\n",
       "      <td>4</td>\n",
       "      <td>0</td>\n",
       "      <td>7000.0</td>\n",
       "      <td>4103.032597</td>\n",
       "      <td>1072.340217</td>\n",
       "      <td>0.222222</td>\n",
       "      <td>12</td>\n",
       "    </tr>\n",
       "    <tr>\n",
       "      <td>2</td>\n",
       "      <td>C10003</td>\n",
       "      <td>2495.148862</td>\n",
       "      <td>1.000000</td>\n",
       "      <td>773.17</td>\n",
       "      <td>773.17</td>\n",
       "      <td>0.00</td>\n",
       "      <td>0.000000</td>\n",
       "      <td>1.000000</td>\n",
       "      <td>1.000000</td>\n",
       "      <td>0.000000</td>\n",
       "      <td>0.000000</td>\n",
       "      <td>0</td>\n",
       "      <td>12</td>\n",
       "      <td>7500.0</td>\n",
       "      <td>622.066742</td>\n",
       "      <td>627.284787</td>\n",
       "      <td>0.000000</td>\n",
       "      <td>12</td>\n",
       "    </tr>\n",
       "    <tr>\n",
       "      <td>3</td>\n",
       "      <td>C10004</td>\n",
       "      <td>1666.670542</td>\n",
       "      <td>0.636364</td>\n",
       "      <td>1499.00</td>\n",
       "      <td>1499.00</td>\n",
       "      <td>0.00</td>\n",
       "      <td>205.788017</td>\n",
       "      <td>0.083333</td>\n",
       "      <td>0.083333</td>\n",
       "      <td>0.000000</td>\n",
       "      <td>0.083333</td>\n",
       "      <td>1</td>\n",
       "      <td>1</td>\n",
       "      <td>7500.0</td>\n",
       "      <td>0.000000</td>\n",
       "      <td>NaN</td>\n",
       "      <td>0.000000</td>\n",
       "      <td>12</td>\n",
       "    </tr>\n",
       "    <tr>\n",
       "      <td>4</td>\n",
       "      <td>C10005</td>\n",
       "      <td>817.714335</td>\n",
       "      <td>1.000000</td>\n",
       "      <td>16.00</td>\n",
       "      <td>16.00</td>\n",
       "      <td>0.00</td>\n",
       "      <td>0.000000</td>\n",
       "      <td>0.083333</td>\n",
       "      <td>0.083333</td>\n",
       "      <td>0.000000</td>\n",
       "      <td>0.000000</td>\n",
       "      <td>0</td>\n",
       "      <td>1</td>\n",
       "      <td>1200.0</td>\n",
       "      <td>678.334763</td>\n",
       "      <td>244.791237</td>\n",
       "      <td>0.000000</td>\n",
       "      <td>12</td>\n",
       "    </tr>\n",
       "    <tr>\n",
       "      <td>...</td>\n",
       "      <td>...</td>\n",
       "      <td>...</td>\n",
       "      <td>...</td>\n",
       "      <td>...</td>\n",
       "      <td>...</td>\n",
       "      <td>...</td>\n",
       "      <td>...</td>\n",
       "      <td>...</td>\n",
       "      <td>...</td>\n",
       "      <td>...</td>\n",
       "      <td>...</td>\n",
       "      <td>...</td>\n",
       "      <td>...</td>\n",
       "      <td>...</td>\n",
       "      <td>...</td>\n",
       "      <td>...</td>\n",
       "      <td>...</td>\n",
       "      <td>...</td>\n",
       "    </tr>\n",
       "    <tr>\n",
       "      <td>8945</td>\n",
       "      <td>C19186</td>\n",
       "      <td>28.493517</td>\n",
       "      <td>1.000000</td>\n",
       "      <td>291.12</td>\n",
       "      <td>0.00</td>\n",
       "      <td>291.12</td>\n",
       "      <td>0.000000</td>\n",
       "      <td>1.000000</td>\n",
       "      <td>0.000000</td>\n",
       "      <td>0.833333</td>\n",
       "      <td>0.000000</td>\n",
       "      <td>0</td>\n",
       "      <td>6</td>\n",
       "      <td>1000.0</td>\n",
       "      <td>325.594462</td>\n",
       "      <td>48.886365</td>\n",
       "      <td>0.500000</td>\n",
       "      <td>6</td>\n",
       "    </tr>\n",
       "    <tr>\n",
       "      <td>8946</td>\n",
       "      <td>C19187</td>\n",
       "      <td>19.183215</td>\n",
       "      <td>1.000000</td>\n",
       "      <td>300.00</td>\n",
       "      <td>0.00</td>\n",
       "      <td>300.00</td>\n",
       "      <td>0.000000</td>\n",
       "      <td>1.000000</td>\n",
       "      <td>0.000000</td>\n",
       "      <td>0.833333</td>\n",
       "      <td>0.000000</td>\n",
       "      <td>0</td>\n",
       "      <td>6</td>\n",
       "      <td>1000.0</td>\n",
       "      <td>275.861322</td>\n",
       "      <td>NaN</td>\n",
       "      <td>0.000000</td>\n",
       "      <td>6</td>\n",
       "    </tr>\n",
       "    <tr>\n",
       "      <td>8947</td>\n",
       "      <td>C19188</td>\n",
       "      <td>23.398673</td>\n",
       "      <td>0.833333</td>\n",
       "      <td>144.40</td>\n",
       "      <td>0.00</td>\n",
       "      <td>144.40</td>\n",
       "      <td>0.000000</td>\n",
       "      <td>0.833333</td>\n",
       "      <td>0.000000</td>\n",
       "      <td>0.666667</td>\n",
       "      <td>0.000000</td>\n",
       "      <td>0</td>\n",
       "      <td>5</td>\n",
       "      <td>1000.0</td>\n",
       "      <td>81.270775</td>\n",
       "      <td>82.418369</td>\n",
       "      <td>0.250000</td>\n",
       "      <td>6</td>\n",
       "    </tr>\n",
       "    <tr>\n",
       "      <td>8948</td>\n",
       "      <td>C19189</td>\n",
       "      <td>13.457564</td>\n",
       "      <td>0.833333</td>\n",
       "      <td>0.00</td>\n",
       "      <td>0.00</td>\n",
       "      <td>0.00</td>\n",
       "      <td>36.558778</td>\n",
       "      <td>0.000000</td>\n",
       "      <td>0.000000</td>\n",
       "      <td>0.000000</td>\n",
       "      <td>0.166667</td>\n",
       "      <td>2</td>\n",
       "      <td>0</td>\n",
       "      <td>500.0</td>\n",
       "      <td>52.549959</td>\n",
       "      <td>55.755628</td>\n",
       "      <td>0.250000</td>\n",
       "      <td>6</td>\n",
       "    </tr>\n",
       "    <tr>\n",
       "      <td>8949</td>\n",
       "      <td>C19190</td>\n",
       "      <td>372.708075</td>\n",
       "      <td>0.666667</td>\n",
       "      <td>1093.25</td>\n",
       "      <td>1093.25</td>\n",
       "      <td>0.00</td>\n",
       "      <td>127.040008</td>\n",
       "      <td>0.666667</td>\n",
       "      <td>0.666667</td>\n",
       "      <td>0.000000</td>\n",
       "      <td>0.333333</td>\n",
       "      <td>2</td>\n",
       "      <td>23</td>\n",
       "      <td>1200.0</td>\n",
       "      <td>63.165404</td>\n",
       "      <td>88.288956</td>\n",
       "      <td>0.000000</td>\n",
       "      <td>6</td>\n",
       "    </tr>\n",
       "  </tbody>\n",
       "</table>\n",
       "<p>8950 rows × 18 columns</p>\n",
       "</div>"
      ],
      "text/plain": [
       "     CUST_ID      BALANCE  BALANCE_FREQUENCY  PURCHASES  ONEOFF_PURCHASES  \\\n",
       "0     C10001    40.900749           0.818182      95.40              0.00   \n",
       "1     C10002  3202.467416           0.909091       0.00              0.00   \n",
       "2     C10003  2495.148862           1.000000     773.17            773.17   \n",
       "3     C10004  1666.670542           0.636364    1499.00           1499.00   \n",
       "4     C10005   817.714335           1.000000      16.00             16.00   \n",
       "...      ...          ...                ...        ...               ...   \n",
       "8945  C19186    28.493517           1.000000     291.12              0.00   \n",
       "8946  C19187    19.183215           1.000000     300.00              0.00   \n",
       "8947  C19188    23.398673           0.833333     144.40              0.00   \n",
       "8948  C19189    13.457564           0.833333       0.00              0.00   \n",
       "8949  C19190   372.708075           0.666667    1093.25           1093.25   \n",
       "\n",
       "      INSTALLMENTS_PURCHASES  CASH_ADVANCE  PURCHASES_FREQUENCY  \\\n",
       "0                      95.40      0.000000             0.166667   \n",
       "1                       0.00   6442.945483             0.000000   \n",
       "2                       0.00      0.000000             1.000000   \n",
       "3                       0.00    205.788017             0.083333   \n",
       "4                       0.00      0.000000             0.083333   \n",
       "...                      ...           ...                  ...   \n",
       "8945                  291.12      0.000000             1.000000   \n",
       "8946                  300.00      0.000000             1.000000   \n",
       "8947                  144.40      0.000000             0.833333   \n",
       "8948                    0.00     36.558778             0.000000   \n",
       "8949                    0.00    127.040008             0.666667   \n",
       "\n",
       "      ONEOFF_PURCHASES_FREQUENCY  PURCHASES_INSTALLMENTS_FREQUENCY  \\\n",
       "0                       0.000000                          0.083333   \n",
       "1                       0.000000                          0.000000   \n",
       "2                       1.000000                          0.000000   \n",
       "3                       0.083333                          0.000000   \n",
       "4                       0.083333                          0.000000   \n",
       "...                          ...                               ...   \n",
       "8945                    0.000000                          0.833333   \n",
       "8946                    0.000000                          0.833333   \n",
       "8947                    0.000000                          0.666667   \n",
       "8948                    0.000000                          0.000000   \n",
       "8949                    0.666667                          0.000000   \n",
       "\n",
       "      CASH_ADVANCE_FREQUENCY  CASH_ADVANCE_TRX  PURCHASES_TRX  CREDIT_LIMIT  \\\n",
       "0                   0.000000                 0              2        1000.0   \n",
       "1                   0.250000                 4              0        7000.0   \n",
       "2                   0.000000                 0             12        7500.0   \n",
       "3                   0.083333                 1              1        7500.0   \n",
       "4                   0.000000                 0              1        1200.0   \n",
       "...                      ...               ...            ...           ...   \n",
       "8945                0.000000                 0              6        1000.0   \n",
       "8946                0.000000                 0              6        1000.0   \n",
       "8947                0.000000                 0              5        1000.0   \n",
       "8948                0.166667                 2              0         500.0   \n",
       "8949                0.333333                 2             23        1200.0   \n",
       "\n",
       "         PAYMENTS  MINIMUM_PAYMENTS  PRC_FULL_PAYMENT  TENURE  \n",
       "0      201.802084        139.509787          0.000000      12  \n",
       "1     4103.032597       1072.340217          0.222222      12  \n",
       "2      622.066742        627.284787          0.000000      12  \n",
       "3        0.000000               NaN          0.000000      12  \n",
       "4      678.334763        244.791237          0.000000      12  \n",
       "...           ...               ...               ...     ...  \n",
       "8945   325.594462         48.886365          0.500000       6  \n",
       "8946   275.861322               NaN          0.000000       6  \n",
       "8947    81.270775         82.418369          0.250000       6  \n",
       "8948    52.549959         55.755628          0.250000       6  \n",
       "8949    63.165404         88.288956          0.000000       6  \n",
       "\n",
       "[8950 rows x 18 columns]"
      ]
     },
     "execution_count": 4,
     "metadata": {},
     "output_type": "execute_result"
    }
   ],
   "source": [
    "data"
   ]
  },
  {
   "cell_type": "code",
   "execution_count": 5,
   "metadata": {},
   "outputs": [
    {
     "data": {
      "text/plain": [
       "(Index(['CUST_ID', 'BALANCE', 'BALANCE_FREQUENCY', 'PURCHASES',\n",
       "        'ONEOFF_PURCHASES', 'INSTALLMENTS_PURCHASES', 'CASH_ADVANCE',\n",
       "        'PURCHASES_FREQUENCY', 'ONEOFF_PURCHASES_FREQUENCY',\n",
       "        'PURCHASES_INSTALLMENTS_FREQUENCY', 'CASH_ADVANCE_FREQUENCY',\n",
       "        'CASH_ADVANCE_TRX', 'PURCHASES_TRX', 'CREDIT_LIMIT', 'PAYMENTS',\n",
       "        'MINIMUM_PAYMENTS', 'PRC_FULL_PAYMENT', 'TENURE'],\n",
       "       dtype='object'), (8950, 18))"
      ]
     },
     "execution_count": 5,
     "metadata": {},
     "output_type": "execute_result"
    }
   ],
   "source": [
    "# Getting Shape of the data\n",
    "data.columns,data.shape"
   ]
  },
  {
   "cell_type": "code",
   "execution_count": 6,
   "metadata": {},
   "outputs": [
    {
     "data": {
      "text/html": [
       "<div>\n",
       "<style scoped>\n",
       "    .dataframe tbody tr th:only-of-type {\n",
       "        vertical-align: middle;\n",
       "    }\n",
       "\n",
       "    .dataframe tbody tr th {\n",
       "        vertical-align: top;\n",
       "    }\n",
       "\n",
       "    .dataframe thead th {\n",
       "        text-align: right;\n",
       "    }\n",
       "</style>\n",
       "<table border=\"1\" class=\"dataframe\">\n",
       "  <thead>\n",
       "    <tr style=\"text-align: right;\">\n",
       "      <th></th>\n",
       "      <th>BALANCE</th>\n",
       "      <th>BALANCE_FREQUENCY</th>\n",
       "      <th>PURCHASES</th>\n",
       "      <th>ONEOFF_PURCHASES</th>\n",
       "      <th>INSTALLMENTS_PURCHASES</th>\n",
       "      <th>CASH_ADVANCE</th>\n",
       "      <th>PURCHASES_FREQUENCY</th>\n",
       "      <th>ONEOFF_PURCHASES_FREQUENCY</th>\n",
       "      <th>PURCHASES_INSTALLMENTS_FREQUENCY</th>\n",
       "      <th>CASH_ADVANCE_FREQUENCY</th>\n",
       "      <th>CASH_ADVANCE_TRX</th>\n",
       "      <th>PURCHASES_TRX</th>\n",
       "      <th>CREDIT_LIMIT</th>\n",
       "      <th>PAYMENTS</th>\n",
       "      <th>MINIMUM_PAYMENTS</th>\n",
       "      <th>PRC_FULL_PAYMENT</th>\n",
       "      <th>TENURE</th>\n",
       "    </tr>\n",
       "  </thead>\n",
       "  <tbody>\n",
       "    <tr>\n",
       "      <td>count</td>\n",
       "      <td>8950.000000</td>\n",
       "      <td>8950.000000</td>\n",
       "      <td>8950.000000</td>\n",
       "      <td>8950.000000</td>\n",
       "      <td>8950.000000</td>\n",
       "      <td>8950.000000</td>\n",
       "      <td>8950.000000</td>\n",
       "      <td>8950.000000</td>\n",
       "      <td>8950.000000</td>\n",
       "      <td>8950.000000</td>\n",
       "      <td>8950.000000</td>\n",
       "      <td>8950.000000</td>\n",
       "      <td>8949.000000</td>\n",
       "      <td>8950.000000</td>\n",
       "      <td>8637.000000</td>\n",
       "      <td>8950.000000</td>\n",
       "      <td>8950.000000</td>\n",
       "    </tr>\n",
       "    <tr>\n",
       "      <td>mean</td>\n",
       "      <td>1564.474828</td>\n",
       "      <td>0.877271</td>\n",
       "      <td>1003.204834</td>\n",
       "      <td>592.437371</td>\n",
       "      <td>411.067645</td>\n",
       "      <td>978.871112</td>\n",
       "      <td>0.490351</td>\n",
       "      <td>0.202458</td>\n",
       "      <td>0.364437</td>\n",
       "      <td>0.135144</td>\n",
       "      <td>3.248827</td>\n",
       "      <td>14.709832</td>\n",
       "      <td>4494.449450</td>\n",
       "      <td>1733.143852</td>\n",
       "      <td>864.206542</td>\n",
       "      <td>0.153715</td>\n",
       "      <td>11.517318</td>\n",
       "    </tr>\n",
       "    <tr>\n",
       "      <td>std</td>\n",
       "      <td>2081.531879</td>\n",
       "      <td>0.236904</td>\n",
       "      <td>2136.634782</td>\n",
       "      <td>1659.887917</td>\n",
       "      <td>904.338115</td>\n",
       "      <td>2097.163877</td>\n",
       "      <td>0.401371</td>\n",
       "      <td>0.298336</td>\n",
       "      <td>0.397448</td>\n",
       "      <td>0.200121</td>\n",
       "      <td>6.824647</td>\n",
       "      <td>24.857649</td>\n",
       "      <td>3638.815725</td>\n",
       "      <td>2895.063757</td>\n",
       "      <td>2372.446607</td>\n",
       "      <td>0.292499</td>\n",
       "      <td>1.338331</td>\n",
       "    </tr>\n",
       "    <tr>\n",
       "      <td>min</td>\n",
       "      <td>0.000000</td>\n",
       "      <td>0.000000</td>\n",
       "      <td>0.000000</td>\n",
       "      <td>0.000000</td>\n",
       "      <td>0.000000</td>\n",
       "      <td>0.000000</td>\n",
       "      <td>0.000000</td>\n",
       "      <td>0.000000</td>\n",
       "      <td>0.000000</td>\n",
       "      <td>0.000000</td>\n",
       "      <td>0.000000</td>\n",
       "      <td>0.000000</td>\n",
       "      <td>50.000000</td>\n",
       "      <td>0.000000</td>\n",
       "      <td>0.019163</td>\n",
       "      <td>0.000000</td>\n",
       "      <td>6.000000</td>\n",
       "    </tr>\n",
       "    <tr>\n",
       "      <td>25%</td>\n",
       "      <td>128.281915</td>\n",
       "      <td>0.888889</td>\n",
       "      <td>39.635000</td>\n",
       "      <td>0.000000</td>\n",
       "      <td>0.000000</td>\n",
       "      <td>0.000000</td>\n",
       "      <td>0.083333</td>\n",
       "      <td>0.000000</td>\n",
       "      <td>0.000000</td>\n",
       "      <td>0.000000</td>\n",
       "      <td>0.000000</td>\n",
       "      <td>1.000000</td>\n",
       "      <td>1600.000000</td>\n",
       "      <td>383.276166</td>\n",
       "      <td>169.123707</td>\n",
       "      <td>0.000000</td>\n",
       "      <td>12.000000</td>\n",
       "    </tr>\n",
       "    <tr>\n",
       "      <td>50%</td>\n",
       "      <td>873.385231</td>\n",
       "      <td>1.000000</td>\n",
       "      <td>361.280000</td>\n",
       "      <td>38.000000</td>\n",
       "      <td>89.000000</td>\n",
       "      <td>0.000000</td>\n",
       "      <td>0.500000</td>\n",
       "      <td>0.083333</td>\n",
       "      <td>0.166667</td>\n",
       "      <td>0.000000</td>\n",
       "      <td>0.000000</td>\n",
       "      <td>7.000000</td>\n",
       "      <td>3000.000000</td>\n",
       "      <td>856.901546</td>\n",
       "      <td>312.343947</td>\n",
       "      <td>0.000000</td>\n",
       "      <td>12.000000</td>\n",
       "    </tr>\n",
       "    <tr>\n",
       "      <td>75%</td>\n",
       "      <td>2054.140036</td>\n",
       "      <td>1.000000</td>\n",
       "      <td>1110.130000</td>\n",
       "      <td>577.405000</td>\n",
       "      <td>468.637500</td>\n",
       "      <td>1113.821139</td>\n",
       "      <td>0.916667</td>\n",
       "      <td>0.300000</td>\n",
       "      <td>0.750000</td>\n",
       "      <td>0.222222</td>\n",
       "      <td>4.000000</td>\n",
       "      <td>17.000000</td>\n",
       "      <td>6500.000000</td>\n",
       "      <td>1901.134317</td>\n",
       "      <td>825.485459</td>\n",
       "      <td>0.142857</td>\n",
       "      <td>12.000000</td>\n",
       "    </tr>\n",
       "    <tr>\n",
       "      <td>max</td>\n",
       "      <td>19043.138560</td>\n",
       "      <td>1.000000</td>\n",
       "      <td>49039.570000</td>\n",
       "      <td>40761.250000</td>\n",
       "      <td>22500.000000</td>\n",
       "      <td>47137.211760</td>\n",
       "      <td>1.000000</td>\n",
       "      <td>1.000000</td>\n",
       "      <td>1.000000</td>\n",
       "      <td>1.500000</td>\n",
       "      <td>123.000000</td>\n",
       "      <td>358.000000</td>\n",
       "      <td>30000.000000</td>\n",
       "      <td>50721.483360</td>\n",
       "      <td>76406.207520</td>\n",
       "      <td>1.000000</td>\n",
       "      <td>12.000000</td>\n",
       "    </tr>\n",
       "  </tbody>\n",
       "</table>\n",
       "</div>"
      ],
      "text/plain": [
       "            BALANCE  BALANCE_FREQUENCY     PURCHASES  ONEOFF_PURCHASES  \\\n",
       "count   8950.000000        8950.000000   8950.000000       8950.000000   \n",
       "mean    1564.474828           0.877271   1003.204834        592.437371   \n",
       "std     2081.531879           0.236904   2136.634782       1659.887917   \n",
       "min        0.000000           0.000000      0.000000          0.000000   \n",
       "25%      128.281915           0.888889     39.635000          0.000000   \n",
       "50%      873.385231           1.000000    361.280000         38.000000   \n",
       "75%     2054.140036           1.000000   1110.130000        577.405000   \n",
       "max    19043.138560           1.000000  49039.570000      40761.250000   \n",
       "\n",
       "       INSTALLMENTS_PURCHASES  CASH_ADVANCE  PURCHASES_FREQUENCY  \\\n",
       "count             8950.000000   8950.000000          8950.000000   \n",
       "mean               411.067645    978.871112             0.490351   \n",
       "std                904.338115   2097.163877             0.401371   \n",
       "min                  0.000000      0.000000             0.000000   \n",
       "25%                  0.000000      0.000000             0.083333   \n",
       "50%                 89.000000      0.000000             0.500000   \n",
       "75%                468.637500   1113.821139             0.916667   \n",
       "max              22500.000000  47137.211760             1.000000   \n",
       "\n",
       "       ONEOFF_PURCHASES_FREQUENCY  PURCHASES_INSTALLMENTS_FREQUENCY  \\\n",
       "count                 8950.000000                       8950.000000   \n",
       "mean                     0.202458                          0.364437   \n",
       "std                      0.298336                          0.397448   \n",
       "min                      0.000000                          0.000000   \n",
       "25%                      0.000000                          0.000000   \n",
       "50%                      0.083333                          0.166667   \n",
       "75%                      0.300000                          0.750000   \n",
       "max                      1.000000                          1.000000   \n",
       "\n",
       "       CASH_ADVANCE_FREQUENCY  CASH_ADVANCE_TRX  PURCHASES_TRX  CREDIT_LIMIT  \\\n",
       "count             8950.000000       8950.000000    8950.000000   8949.000000   \n",
       "mean                 0.135144          3.248827      14.709832   4494.449450   \n",
       "std                  0.200121          6.824647      24.857649   3638.815725   \n",
       "min                  0.000000          0.000000       0.000000     50.000000   \n",
       "25%                  0.000000          0.000000       1.000000   1600.000000   \n",
       "50%                  0.000000          0.000000       7.000000   3000.000000   \n",
       "75%                  0.222222          4.000000      17.000000   6500.000000   \n",
       "max                  1.500000        123.000000     358.000000  30000.000000   \n",
       "\n",
       "           PAYMENTS  MINIMUM_PAYMENTS  PRC_FULL_PAYMENT       TENURE  \n",
       "count   8950.000000       8637.000000       8950.000000  8950.000000  \n",
       "mean    1733.143852        864.206542          0.153715    11.517318  \n",
       "std     2895.063757       2372.446607          0.292499     1.338331  \n",
       "min        0.000000          0.019163          0.000000     6.000000  \n",
       "25%      383.276166        169.123707          0.000000    12.000000  \n",
       "50%      856.901546        312.343947          0.000000    12.000000  \n",
       "75%     1901.134317        825.485459          0.142857    12.000000  \n",
       "max    50721.483360      76406.207520          1.000000    12.000000  "
      ]
     },
     "execution_count": 6,
     "metadata": {},
     "output_type": "execute_result"
    }
   ],
   "source": [
    "# Getiing five no. summary\n",
    "data.describe()"
   ]
  },
  {
   "cell_type": "markdown",
   "metadata": {},
   "source": [
    "### Handling Missing Value"
   ]
  },
  {
   "cell_type": "code",
   "execution_count": 7,
   "metadata": {},
   "outputs": [
    {
     "data": {
      "text/html": [
       "<div>\n",
       "<style scoped>\n",
       "    .dataframe tbody tr th:only-of-type {\n",
       "        vertical-align: middle;\n",
       "    }\n",
       "\n",
       "    .dataframe tbody tr th {\n",
       "        vertical-align: top;\n",
       "    }\n",
       "\n",
       "    .dataframe thead th {\n",
       "        text-align: right;\n",
       "    }\n",
       "</style>\n",
       "<table border=\"1\" class=\"dataframe\">\n",
       "  <thead>\n",
       "    <tr style=\"text-align: right;\">\n",
       "      <th></th>\n",
       "      <th>miss_count</th>\n",
       "      <th>miss_%</th>\n",
       "    </tr>\n",
       "  </thead>\n",
       "  <tbody>\n",
       "    <tr>\n",
       "      <td>CUST_ID</td>\n",
       "      <td>0</td>\n",
       "      <td>0.000000</td>\n",
       "    </tr>\n",
       "    <tr>\n",
       "      <td>BALANCE</td>\n",
       "      <td>0</td>\n",
       "      <td>0.000000</td>\n",
       "    </tr>\n",
       "    <tr>\n",
       "      <td>BALANCE_FREQUENCY</td>\n",
       "      <td>0</td>\n",
       "      <td>0.000000</td>\n",
       "    </tr>\n",
       "    <tr>\n",
       "      <td>PURCHASES</td>\n",
       "      <td>0</td>\n",
       "      <td>0.000000</td>\n",
       "    </tr>\n",
       "    <tr>\n",
       "      <td>ONEOFF_PURCHASES</td>\n",
       "      <td>0</td>\n",
       "      <td>0.000000</td>\n",
       "    </tr>\n",
       "    <tr>\n",
       "      <td>INSTALLMENTS_PURCHASES</td>\n",
       "      <td>0</td>\n",
       "      <td>0.000000</td>\n",
       "    </tr>\n",
       "    <tr>\n",
       "      <td>CASH_ADVANCE</td>\n",
       "      <td>0</td>\n",
       "      <td>0.000000</td>\n",
       "    </tr>\n",
       "    <tr>\n",
       "      <td>PURCHASES_FREQUENCY</td>\n",
       "      <td>0</td>\n",
       "      <td>0.000000</td>\n",
       "    </tr>\n",
       "    <tr>\n",
       "      <td>ONEOFF_PURCHASES_FREQUENCY</td>\n",
       "      <td>0</td>\n",
       "      <td>0.000000</td>\n",
       "    </tr>\n",
       "    <tr>\n",
       "      <td>PURCHASES_INSTALLMENTS_FREQUENCY</td>\n",
       "      <td>0</td>\n",
       "      <td>0.000000</td>\n",
       "    </tr>\n",
       "    <tr>\n",
       "      <td>CASH_ADVANCE_FREQUENCY</td>\n",
       "      <td>0</td>\n",
       "      <td>0.000000</td>\n",
       "    </tr>\n",
       "    <tr>\n",
       "      <td>CASH_ADVANCE_TRX</td>\n",
       "      <td>0</td>\n",
       "      <td>0.000000</td>\n",
       "    </tr>\n",
       "    <tr>\n",
       "      <td>PURCHASES_TRX</td>\n",
       "      <td>0</td>\n",
       "      <td>0.000000</td>\n",
       "    </tr>\n",
       "    <tr>\n",
       "      <td>CREDIT_LIMIT</td>\n",
       "      <td>1</td>\n",
       "      <td>0.011173</td>\n",
       "    </tr>\n",
       "    <tr>\n",
       "      <td>PAYMENTS</td>\n",
       "      <td>0</td>\n",
       "      <td>0.000000</td>\n",
       "    </tr>\n",
       "    <tr>\n",
       "      <td>MINIMUM_PAYMENTS</td>\n",
       "      <td>313</td>\n",
       "      <td>3.497207</td>\n",
       "    </tr>\n",
       "    <tr>\n",
       "      <td>PRC_FULL_PAYMENT</td>\n",
       "      <td>0</td>\n",
       "      <td>0.000000</td>\n",
       "    </tr>\n",
       "    <tr>\n",
       "      <td>TENURE</td>\n",
       "      <td>0</td>\n",
       "      <td>0.000000</td>\n",
       "    </tr>\n",
       "  </tbody>\n",
       "</table>\n",
       "</div>"
      ],
      "text/plain": [
       "                                  miss_count    miss_%\n",
       "CUST_ID                                    0  0.000000\n",
       "BALANCE                                    0  0.000000\n",
       "BALANCE_FREQUENCY                          0  0.000000\n",
       "PURCHASES                                  0  0.000000\n",
       "ONEOFF_PURCHASES                           0  0.000000\n",
       "INSTALLMENTS_PURCHASES                     0  0.000000\n",
       "CASH_ADVANCE                               0  0.000000\n",
       "PURCHASES_FREQUENCY                        0  0.000000\n",
       "ONEOFF_PURCHASES_FREQUENCY                 0  0.000000\n",
       "PURCHASES_INSTALLMENTS_FREQUENCY           0  0.000000\n",
       "CASH_ADVANCE_FREQUENCY                     0  0.000000\n",
       "CASH_ADVANCE_TRX                           0  0.000000\n",
       "PURCHASES_TRX                              0  0.000000\n",
       "CREDIT_LIMIT                               1  0.011173\n",
       "PAYMENTS                                   0  0.000000\n",
       "MINIMUM_PAYMENTS                         313  3.497207\n",
       "PRC_FULL_PAYMENT                           0  0.000000\n",
       "TENURE                                     0  0.000000"
      ]
     },
     "execution_count": 7,
     "metadata": {},
     "output_type": "execute_result"
    }
   ],
   "source": [
    "miss = pd.DataFrame(data.isnull().sum())\n",
    "miss = miss.rename(columns={0:\"miss_count\"})\n",
    "miss[\"miss_%\"] = (miss.miss_count/len(data.CUST_ID))*100\n",
    "miss"
   ]
  },
  {
   "cell_type": "markdown",
   "metadata": {},
   "source": [
    "we can see that only 2 columns have missing value and which are less than 30% of the total values so we can impute them."
   ]
  },
  {
   "cell_type": "markdown",
   "metadata": {},
   "source": [
    "### Imputing Missing Value\n",
    "1. we will delete some know values from the data frame\n",
    "2. then we will use diffrent imputing techniques \n",
    "3. we will compare all imputing technique with the actual value\n",
    "4. we will choose the imputation technique whose results are closer to the actual values."
   ]
  },
  {
   "cell_type": "code",
   "execution_count": 8,
   "metadata": {},
   "outputs": [],
   "source": [
    "data1 =data.copy()"
   ]
  },
  {
   "cell_type": "code",
   "execution_count": 9,
   "metadata": {},
   "outputs": [
    {
     "data": {
      "text/plain": [
       "(2407.246035, 156.644197, 11142.93224, 153.957216)"
      ]
     },
     "execution_count": 9,
     "metadata": {},
     "output_type": "execute_result"
    }
   ],
   "source": [
    "data1['MINIMUM_PAYMENTS'].loc[5],data1['MINIMUM_PAYMENTS'].loc[505],data1['MINIMUM_PAYMENTS'].loc[5005], data1['MINIMUM_PAYMENTS'].loc[8005] "
   ]
  },
  {
   "cell_type": "markdown",
   "metadata": {},
   "source": [
    "#### Imputing Using Mean"
   ]
  },
  {
   "cell_type": "code",
   "execution_count": 10,
   "metadata": {},
   "outputs": [
    {
     "name": "stderr",
     "output_type": "stream",
     "text": [
      "/home/mayank/anaconda3/lib/python3.7/site-packages/pandas/core/indexing.py:205: SettingWithCopyWarning: \n",
      "A value is trying to be set on a copy of a slice from a DataFrame\n",
      "\n",
      "See the caveats in the documentation: http://pandas.pydata.org/pandas-docs/stable/user_guide/indexing.html#returning-a-view-versus-a-copy\n",
      "  self._setitem_with_indexer(indexer, value)\n"
     ]
    }
   ],
   "source": [
    "data1 =data.copy()\n",
    "data1['MINIMUM_PAYMENTS'].loc[5] = np.nan\n",
    "data1['MINIMUM_PAYMENTS'].loc[505] = np.nan\n",
    "data1['MINIMUM_PAYMENTS'].loc[5005] = np.nan\n",
    "data1['MINIMUM_PAYMENTS'].loc[8005] = np.nan"
   ]
  },
  {
   "cell_type": "code",
   "execution_count": 11,
   "metadata": {},
   "outputs": [],
   "source": [
    "data1['MINIMUM_PAYMENTS'] = data1['MINIMUM_PAYMENTS'].fillna(data1['MINIMUM_PAYMENTS'].mean())"
   ]
  },
  {
   "cell_type": "code",
   "execution_count": 12,
   "metadata": {},
   "outputs": [
    {
     "data": {
      "text/plain": [
       "(863.001404633498, 863.001404633498, 863.001404633498, 863.001404633498)"
      ]
     },
     "execution_count": 12,
     "metadata": {},
     "output_type": "execute_result"
    }
   ],
   "source": [
    "data1['MINIMUM_PAYMENTS'].loc[5],data1['MINIMUM_PAYMENTS'].loc[505],data1['MINIMUM_PAYMENTS'].loc[5005], data1['MINIMUM_PAYMENTS'].loc[8005] "
   ]
  },
  {
   "cell_type": "markdown",
   "metadata": {},
   "source": [
    "#### Imputing using median"
   ]
  },
  {
   "cell_type": "code",
   "execution_count": 13,
   "metadata": {},
   "outputs": [],
   "source": [
    "data1 =data.copy()\n",
    "data1['MINIMUM_PAYMENTS'].loc[5] = np.nan\n",
    "data1['MINIMUM_PAYMENTS'].loc[505] = np.nan\n",
    "data1['MINIMUM_PAYMENTS'].loc[5005] = np.nan\n",
    "data1['MINIMUM_PAYMENTS'].loc[8005] = np.nan"
   ]
  },
  {
   "cell_type": "code",
   "execution_count": 14,
   "metadata": {},
   "outputs": [],
   "source": [
    "data1['MINIMUM_PAYMENTS'] = data1['MINIMUM_PAYMENTS'].fillna(data1['MINIMUM_PAYMENTS'].median())"
   ]
  },
  {
   "cell_type": "code",
   "execution_count": 15,
   "metadata": {},
   "outputs": [
    {
     "data": {
      "text/plain": [
       "(312.343947, 312.343947, 312.343947, 312.343947)"
      ]
     },
     "execution_count": 15,
     "metadata": {},
     "output_type": "execute_result"
    }
   ],
   "source": [
    "data1['MINIMUM_PAYMENTS'].loc[5],data1['MINIMUM_PAYMENTS'].loc[505],data1['MINIMUM_PAYMENTS'].loc[5005], data1['MINIMUM_PAYMENTS'].loc[8005] "
   ]
  },
  {
   "cell_type": "markdown",
   "metadata": {},
   "source": [
    "#### Imputing using interpolation"
   ]
  },
  {
   "cell_type": "code",
   "execution_count": 16,
   "metadata": {},
   "outputs": [],
   "source": [
    "data1 =data.copy()\n",
    "data1['MINIMUM_PAYMENTS'].loc[5] = np.nan\n",
    "data1['MINIMUM_PAYMENTS'].loc[505] = np.nan\n",
    "data1['MINIMUM_PAYMENTS'].loc[5005] = np.nan\n",
    "data1['MINIMUM_PAYMENTS'].loc[8005] = np.nan"
   ]
  },
  {
   "cell_type": "code",
   "execution_count": 17,
   "metadata": {},
   "outputs": [],
   "source": [
    "data1=data1.interpolate()"
   ]
  },
  {
   "cell_type": "code",
   "execution_count": 18,
   "metadata": {},
   "outputs": [
    {
     "data": {
      "text/plain": [
       "(221.4285655, 844.759233, 588.8944570000001, 1802.9210875)"
      ]
     },
     "execution_count": 18,
     "metadata": {},
     "output_type": "execute_result"
    }
   ],
   "source": [
    "data1['MINIMUM_PAYMENTS'].loc[5],data1['MINIMUM_PAYMENTS'].loc[505],data1['MINIMUM_PAYMENTS'].loc[5005], data1['MINIMUM_PAYMENTS'].loc[8005] "
   ]
  },
  {
   "cell_type": "markdown",
   "metadata": {},
   "source": [
    "#### Imputing using Knn imputation"
   ]
  },
  {
   "cell_type": "code",
   "execution_count": 26,
   "metadata": {},
   "outputs": [
    {
     "name": "stderr",
     "output_type": "stream",
     "text": [
      "/home/mayank/anaconda3/lib/python3.7/site-packages/pandas/core/indexing.py:205: SettingWithCopyWarning: \n",
      "A value is trying to be set on a copy of a slice from a DataFrame\n",
      "\n",
      "See the caveats in the documentation: http://pandas.pydata.org/pandas-docs/stable/user_guide/indexing.html#returning-a-view-versus-a-copy\n",
      "  self._setitem_with_indexer(indexer, value)\n"
     ]
    }
   ],
   "source": [
    "data1 =data.copy()\n",
    "data1['MINIMUM_PAYMENTS'].loc[5] = np.nan\n",
    "data1['MINIMUM_PAYMENTS'].loc[505] = np.nan\n",
    "data1['MINIMUM_PAYMENTS'].loc[5005] = np.nan\n",
    "data1['MINIMUM_PAYMENTS'].loc[8005] = np.nan"
   ]
  },
  {
   "cell_type": "code",
   "execution_count": 27,
   "metadata": {},
   "outputs": [],
   "source": [
    "import impyute as impy\n",
    "aa=list(data.columns)\n",
    "aa.remove(\"CUST_ID\")\n",
    "d =impy.fast_knn(data1.iloc[:,1:], k=4)\n",
    "d.columns =aa\n",
    "data1.iloc[:,1:] = d"
   ]
  },
  {
   "cell_type": "code",
   "execution_count": 28,
   "metadata": {},
   "outputs": [
    {
     "data": {
      "text/plain": [
       "(1112.0873384612082, 863.0014046334994, 1554.3481299242012, 176.94312480907524)"
      ]
     },
     "execution_count": 28,
     "metadata": {},
     "output_type": "execute_result"
    }
   ],
   "source": [
    "d.iloc[5,14],d.iloc[505,14],d.iloc[5005,14], d.iloc[8005,14] "
   ]
  },
  {
   "cell_type": "code",
   "execution_count": 29,
   "metadata": {},
   "outputs": [
    {
     "data": {
      "text/plain": [
       "(1112.0873384612082, 863.0014046334994, 1554.3481299242012, 176.94312480907524)"
      ]
     },
     "execution_count": 29,
     "metadata": {},
     "output_type": "execute_result"
    }
   ],
   "source": [
    "data1['MINIMUM_PAYMENTS'].loc[5],data1['MINIMUM_PAYMENTS'].loc[505],data1['MINIMUM_PAYMENTS'].loc[5005], data1['MINIMUM_PAYMENTS'].loc[8005] "
   ]
  },
  {
   "cell_type": "markdown",
   "metadata": {},
   "source": [
    "We can see that KNN has better results then mean, median, and interpolation in filling missing value so we will fill the missing values with KNN."
   ]
  },
  {
   "cell_type": "markdown",
   "metadata": {},
   "source": [
    "### Missing Values Removed."
   ]
  },
  {
   "cell_type": "code",
   "execution_count": 31,
   "metadata": {
    "scrolled": false
   },
   "outputs": [
    {
     "data": {
      "text/html": [
       "<div>\n",
       "<style scoped>\n",
       "    .dataframe tbody tr th:only-of-type {\n",
       "        vertical-align: middle;\n",
       "    }\n",
       "\n",
       "    .dataframe tbody tr th {\n",
       "        vertical-align: top;\n",
       "    }\n",
       "\n",
       "    .dataframe thead th {\n",
       "        text-align: right;\n",
       "    }\n",
       "</style>\n",
       "<table border=\"1\" class=\"dataframe\">\n",
       "  <thead>\n",
       "    <tr style=\"text-align: right;\">\n",
       "      <th></th>\n",
       "      <th>miss_count</th>\n",
       "      <th>miss_%</th>\n",
       "    </tr>\n",
       "  </thead>\n",
       "  <tbody>\n",
       "    <tr>\n",
       "      <td>CUST_ID</td>\n",
       "      <td>0</td>\n",
       "      <td>0.0</td>\n",
       "    </tr>\n",
       "    <tr>\n",
       "      <td>BALANCE</td>\n",
       "      <td>0</td>\n",
       "      <td>0.0</td>\n",
       "    </tr>\n",
       "    <tr>\n",
       "      <td>BALANCE_FREQUENCY</td>\n",
       "      <td>0</td>\n",
       "      <td>0.0</td>\n",
       "    </tr>\n",
       "    <tr>\n",
       "      <td>PURCHASES</td>\n",
       "      <td>0</td>\n",
       "      <td>0.0</td>\n",
       "    </tr>\n",
       "    <tr>\n",
       "      <td>ONEOFF_PURCHASES</td>\n",
       "      <td>0</td>\n",
       "      <td>0.0</td>\n",
       "    </tr>\n",
       "    <tr>\n",
       "      <td>INSTALLMENTS_PURCHASES</td>\n",
       "      <td>0</td>\n",
       "      <td>0.0</td>\n",
       "    </tr>\n",
       "    <tr>\n",
       "      <td>CASH_ADVANCE</td>\n",
       "      <td>0</td>\n",
       "      <td>0.0</td>\n",
       "    </tr>\n",
       "    <tr>\n",
       "      <td>PURCHASES_FREQUENCY</td>\n",
       "      <td>0</td>\n",
       "      <td>0.0</td>\n",
       "    </tr>\n",
       "    <tr>\n",
       "      <td>ONEOFF_PURCHASES_FREQUENCY</td>\n",
       "      <td>0</td>\n",
       "      <td>0.0</td>\n",
       "    </tr>\n",
       "    <tr>\n",
       "      <td>PURCHASES_INSTALLMENTS_FREQUENCY</td>\n",
       "      <td>0</td>\n",
       "      <td>0.0</td>\n",
       "    </tr>\n",
       "    <tr>\n",
       "      <td>CASH_ADVANCE_FREQUENCY</td>\n",
       "      <td>0</td>\n",
       "      <td>0.0</td>\n",
       "    </tr>\n",
       "    <tr>\n",
       "      <td>CASH_ADVANCE_TRX</td>\n",
       "      <td>0</td>\n",
       "      <td>0.0</td>\n",
       "    </tr>\n",
       "    <tr>\n",
       "      <td>PURCHASES_TRX</td>\n",
       "      <td>0</td>\n",
       "      <td>0.0</td>\n",
       "    </tr>\n",
       "    <tr>\n",
       "      <td>CREDIT_LIMIT</td>\n",
       "      <td>0</td>\n",
       "      <td>0.0</td>\n",
       "    </tr>\n",
       "    <tr>\n",
       "      <td>PAYMENTS</td>\n",
       "      <td>0</td>\n",
       "      <td>0.0</td>\n",
       "    </tr>\n",
       "    <tr>\n",
       "      <td>MINIMUM_PAYMENTS</td>\n",
       "      <td>0</td>\n",
       "      <td>0.0</td>\n",
       "    </tr>\n",
       "    <tr>\n",
       "      <td>PRC_FULL_PAYMENT</td>\n",
       "      <td>0</td>\n",
       "      <td>0.0</td>\n",
       "    </tr>\n",
       "    <tr>\n",
       "      <td>TENURE</td>\n",
       "      <td>0</td>\n",
       "      <td>0.0</td>\n",
       "    </tr>\n",
       "  </tbody>\n",
       "</table>\n",
       "</div>"
      ],
      "text/plain": [
       "                                  miss_count  miss_%\n",
       "CUST_ID                                    0     0.0\n",
       "BALANCE                                    0     0.0\n",
       "BALANCE_FREQUENCY                          0     0.0\n",
       "PURCHASES                                  0     0.0\n",
       "ONEOFF_PURCHASES                           0     0.0\n",
       "INSTALLMENTS_PURCHASES                     0     0.0\n",
       "CASH_ADVANCE                               0     0.0\n",
       "PURCHASES_FREQUENCY                        0     0.0\n",
       "ONEOFF_PURCHASES_FREQUENCY                 0     0.0\n",
       "PURCHASES_INSTALLMENTS_FREQUENCY           0     0.0\n",
       "CASH_ADVANCE_FREQUENCY                     0     0.0\n",
       "CASH_ADVANCE_TRX                           0     0.0\n",
       "PURCHASES_TRX                              0     0.0\n",
       "CREDIT_LIMIT                               0     0.0\n",
       "PAYMENTS                                   0     0.0\n",
       "MINIMUM_PAYMENTS                           0     0.0\n",
       "PRC_FULL_PAYMENT                           0     0.0\n",
       "TENURE                                     0     0.0"
      ]
     },
     "execution_count": 31,
     "metadata": {},
     "output_type": "execute_result"
    }
   ],
   "source": [
    "miss = pd.DataFrame(data1.isnull().sum())\n",
    "miss = miss.rename(columns={0:\"miss_count\"})\n",
    "miss[\"miss_%\"] = (miss.miss_count/len(data1.CUST_ID))*100\n",
    "miss"
   ]
  },
  {
   "cell_type": "markdown",
   "metadata": {},
   "source": [
    "Here we can see that all values are complete now we can move ahead with further analysis."
   ]
  },
  {
   "cell_type": "markdown",
   "metadata": {},
   "source": [
    "### Deriving KPIs\n"
   ]
  },
  {
   "cell_type": "markdown",
   "metadata": {},
   "source": [
    "#### 1- monthly average purchase and cash advance amount\n",
    "* monthly average purchase = total amount of purchases / total tenure \n",
    "* monthly average cash advance = total cash advance / total tenure "
   ]
  },
  {
   "cell_type": "code",
   "execution_count": 32,
   "metadata": {},
   "outputs": [],
   "source": [
    "data2 = data1.copy()"
   ]
  },
  {
   "cell_type": "code",
   "execution_count": 33,
   "metadata": {},
   "outputs": [],
   "source": [
    "data2[\"AVG_MONTH_PURCHASE\"] = round(data2[\"PURCHASES\"]/data2[\"TENURE\"],2)\n",
    "data2[\"AVG_MONTH_CASH_ADVANCE\"] = round(data2[\"CASH_ADVANCE\"]/data2[\"TENURE\"],2)"
   ]
  },
  {
   "cell_type": "markdown",
   "metadata": {},
   "source": [
    "#### 2- Purchases by type (one-off, installments)"
   ]
  },
  {
   "cell_type": "code",
   "execution_count": 34,
   "metadata": {},
   "outputs": [
    {
     "data": {
      "text/html": [
       "<div>\n",
       "<style scoped>\n",
       "    .dataframe tbody tr th:only-of-type {\n",
       "        vertical-align: middle;\n",
       "    }\n",
       "\n",
       "    .dataframe tbody tr th {\n",
       "        vertical-align: top;\n",
       "    }\n",
       "\n",
       "    .dataframe thead th {\n",
       "        text-align: right;\n",
       "    }\n",
       "</style>\n",
       "<table border=\"1\" class=\"dataframe\">\n",
       "  <thead>\n",
       "    <tr style=\"text-align: right;\">\n",
       "      <th></th>\n",
       "      <th>ONEOFF_PURCHASES</th>\n",
       "      <th>INSTALLMENTS_PURCHASES</th>\n",
       "    </tr>\n",
       "  </thead>\n",
       "  <tbody>\n",
       "    <tr>\n",
       "      <td>0</td>\n",
       "      <td>0.00</td>\n",
       "      <td>95.4</td>\n",
       "    </tr>\n",
       "    <tr>\n",
       "      <td>1</td>\n",
       "      <td>0.00</td>\n",
       "      <td>0.0</td>\n",
       "    </tr>\n",
       "    <tr>\n",
       "      <td>2</td>\n",
       "      <td>773.17</td>\n",
       "      <td>0.0</td>\n",
       "    </tr>\n",
       "    <tr>\n",
       "      <td>3</td>\n",
       "      <td>1499.00</td>\n",
       "      <td>0.0</td>\n",
       "    </tr>\n",
       "    <tr>\n",
       "      <td>4</td>\n",
       "      <td>16.00</td>\n",
       "      <td>0.0</td>\n",
       "    </tr>\n",
       "  </tbody>\n",
       "</table>\n",
       "</div>"
      ],
      "text/plain": [
       "   ONEOFF_PURCHASES  INSTALLMENTS_PURCHASES\n",
       "0              0.00                    95.4\n",
       "1              0.00                     0.0\n",
       "2            773.17                     0.0\n",
       "3           1499.00                     0.0\n",
       "4             16.00                     0.0"
      ]
     },
     "execution_count": 34,
     "metadata": {},
     "output_type": "execute_result"
    }
   ],
   "source": [
    "data2[[\"ONEOFF_PURCHASES\",\"INSTALLMENTS_PURCHASES\"]].head()"
   ]
  },
  {
   "cell_type": "markdown",
   "metadata": {},
   "source": [
    "#### From The Above \n",
    "we can see there are users which either purchase oneoff, installments, both or neither of the option lets segregate them with a label"
   ]
  },
  {
   "cell_type": "code",
   "execution_count": 35,
   "metadata": {},
   "outputs": [],
   "source": [
    "# The below function segregate them into diffrent groups as per there characterstics.\n",
    "def type_check(data2):\n",
    "    if (data2.ONEOFF_PURCHASES!=0.0) and (data2.INSTALLMENTS_PURCHASES!=0.0 ):\n",
    "        return \"BOTH\"\n",
    "    elif (data2.ONEOFF_PURCHASES==0.0) and (data2.INSTALLMENTS_PURCHASES!=0.0 ):\n",
    "        return \"INSTALLMENTS\"\n",
    "    elif (data2.ONEOFF_PURCHASES!=0.0) and (data2.INSTALLMENTS_PURCHASES==0.0 ):\n",
    "        return \"ONEOFF\"\n",
    "    elif (data2.ONEOFF_PURCHASES==0.0) and (data2.INSTALLMENTS_PURCHASES==0.0):\n",
    "        return \"NONE\""
   ]
  },
  {
   "cell_type": "code",
   "execution_count": 36,
   "metadata": {},
   "outputs": [],
   "source": [
    "# applying the function \n",
    "data2[\"PURCHASE_TYPE\"] = data2.apply(type_check,axis=1)"
   ]
  },
  {
   "cell_type": "code",
   "execution_count": 37,
   "metadata": {},
   "outputs": [
    {
     "data": {
      "text/plain": [
       "BOTH            2774\n",
       "INSTALLMENTS    2260\n",
       "NONE            2042\n",
       "ONEOFF          1874\n",
       "Name: PURCHASE_TYPE, dtype: int64"
      ]
     },
     "execution_count": 37,
     "metadata": {},
     "output_type": "execute_result"
    }
   ],
   "source": [
    "data2[\"PURCHASE_TYPE\"].value_counts()"
   ]
  },
  {
   "cell_type": "markdown",
   "metadata": {},
   "source": [
    "#### 3- Average amount per purchase and cash advance transaction\n",
    "*  Average amount per purchase transaction = total amount of purchases / total purchase transaction \n",
    "*  Average amount cash advance transaction = total cash advance / total cash_advance transcation"
   ]
  },
  {
   "cell_type": "code",
   "execution_count": 38,
   "metadata": {},
   "outputs": [],
   "source": [
    "data2[\"AVG_AMT_PURCHASE_TRX\"] = round(data2[\"PURCHASES\"]/data2[\"PURCHASES_TRX\"],2)\n",
    "data2[\"AVG_AMT_CASH_ADVANCE_TRX\"] = round(data2[\"CASH_ADVANCE\"]/data2[\"CASH_ADVANCE_TRX\"],2)\n",
    "data2 = data2.fillna(0.0)"
   ]
  },
  {
   "cell_type": "code",
   "execution_count": 39,
   "metadata": {},
   "outputs": [
    {
     "data": {
      "text/html": [
       "<div>\n",
       "<style scoped>\n",
       "    .dataframe tbody tr th:only-of-type {\n",
       "        vertical-align: middle;\n",
       "    }\n",
       "\n",
       "    .dataframe tbody tr th {\n",
       "        vertical-align: top;\n",
       "    }\n",
       "\n",
       "    .dataframe thead th {\n",
       "        text-align: right;\n",
       "    }\n",
       "</style>\n",
       "<table border=\"1\" class=\"dataframe\">\n",
       "  <thead>\n",
       "    <tr style=\"text-align: right;\">\n",
       "      <th></th>\n",
       "      <th>CUST_ID</th>\n",
       "      <th>BALANCE</th>\n",
       "      <th>BALANCE_FREQUENCY</th>\n",
       "      <th>PURCHASES</th>\n",
       "      <th>ONEOFF_PURCHASES</th>\n",
       "      <th>INSTALLMENTS_PURCHASES</th>\n",
       "      <th>CASH_ADVANCE</th>\n",
       "      <th>PURCHASES_FREQUENCY</th>\n",
       "      <th>ONEOFF_PURCHASES_FREQUENCY</th>\n",
       "      <th>PURCHASES_INSTALLMENTS_FREQUENCY</th>\n",
       "      <th>...</th>\n",
       "      <th>CREDIT_LIMIT</th>\n",
       "      <th>PAYMENTS</th>\n",
       "      <th>MINIMUM_PAYMENTS</th>\n",
       "      <th>PRC_FULL_PAYMENT</th>\n",
       "      <th>TENURE</th>\n",
       "      <th>AVG_MONTH_PURCHASE</th>\n",
       "      <th>AVG_MONTH_CASH_ADVANCE</th>\n",
       "      <th>PURCHASE_TYPE</th>\n",
       "      <th>AVG_AMT_PURCHASE_TRX</th>\n",
       "      <th>AVG_AMT_CASH_ADVANCE_TRX</th>\n",
       "    </tr>\n",
       "  </thead>\n",
       "  <tbody>\n",
       "    <tr>\n",
       "      <td>0</td>\n",
       "      <td>C10001</td>\n",
       "      <td>40.900749</td>\n",
       "      <td>0.818182</td>\n",
       "      <td>95.40</td>\n",
       "      <td>0.00</td>\n",
       "      <td>95.4</td>\n",
       "      <td>0.000000</td>\n",
       "      <td>0.166667</td>\n",
       "      <td>0.000000</td>\n",
       "      <td>0.083333</td>\n",
       "      <td>...</td>\n",
       "      <td>1000.0</td>\n",
       "      <td>201.802084</td>\n",
       "      <td>139.509787</td>\n",
       "      <td>0.000000</td>\n",
       "      <td>12.0</td>\n",
       "      <td>7.95</td>\n",
       "      <td>0.00</td>\n",
       "      <td>INSTALLMENTS</td>\n",
       "      <td>47.70</td>\n",
       "      <td>0.00</td>\n",
       "    </tr>\n",
       "    <tr>\n",
       "      <td>1</td>\n",
       "      <td>C10002</td>\n",
       "      <td>3202.467416</td>\n",
       "      <td>0.909091</td>\n",
       "      <td>0.00</td>\n",
       "      <td>0.00</td>\n",
       "      <td>0.0</td>\n",
       "      <td>6442.945483</td>\n",
       "      <td>0.000000</td>\n",
       "      <td>0.000000</td>\n",
       "      <td>0.000000</td>\n",
       "      <td>...</td>\n",
       "      <td>7000.0</td>\n",
       "      <td>4103.032597</td>\n",
       "      <td>1072.340217</td>\n",
       "      <td>0.222222</td>\n",
       "      <td>12.0</td>\n",
       "      <td>0.00</td>\n",
       "      <td>536.91</td>\n",
       "      <td>NONE</td>\n",
       "      <td>0.00</td>\n",
       "      <td>1610.74</td>\n",
       "    </tr>\n",
       "    <tr>\n",
       "      <td>2</td>\n",
       "      <td>C10003</td>\n",
       "      <td>2495.148862</td>\n",
       "      <td>1.000000</td>\n",
       "      <td>773.17</td>\n",
       "      <td>773.17</td>\n",
       "      <td>0.0</td>\n",
       "      <td>0.000000</td>\n",
       "      <td>1.000000</td>\n",
       "      <td>1.000000</td>\n",
       "      <td>0.000000</td>\n",
       "      <td>...</td>\n",
       "      <td>7500.0</td>\n",
       "      <td>622.066742</td>\n",
       "      <td>627.284787</td>\n",
       "      <td>0.000000</td>\n",
       "      <td>12.0</td>\n",
       "      <td>64.43</td>\n",
       "      <td>0.00</td>\n",
       "      <td>ONEOFF</td>\n",
       "      <td>64.43</td>\n",
       "      <td>0.00</td>\n",
       "    </tr>\n",
       "    <tr>\n",
       "      <td>3</td>\n",
       "      <td>C10004</td>\n",
       "      <td>1666.670542</td>\n",
       "      <td>0.636364</td>\n",
       "      <td>1499.00</td>\n",
       "      <td>1499.00</td>\n",
       "      <td>0.0</td>\n",
       "      <td>205.788017</td>\n",
       "      <td>0.083333</td>\n",
       "      <td>0.083333</td>\n",
       "      <td>0.000000</td>\n",
       "      <td>...</td>\n",
       "      <td>7500.0</td>\n",
       "      <td>0.000000</td>\n",
       "      <td>540.060203</td>\n",
       "      <td>0.000000</td>\n",
       "      <td>12.0</td>\n",
       "      <td>124.92</td>\n",
       "      <td>17.15</td>\n",
       "      <td>ONEOFF</td>\n",
       "      <td>1499.00</td>\n",
       "      <td>205.79</td>\n",
       "    </tr>\n",
       "    <tr>\n",
       "      <td>4</td>\n",
       "      <td>C10005</td>\n",
       "      <td>817.714335</td>\n",
       "      <td>1.000000</td>\n",
       "      <td>16.00</td>\n",
       "      <td>16.00</td>\n",
       "      <td>0.0</td>\n",
       "      <td>0.000000</td>\n",
       "      <td>0.083333</td>\n",
       "      <td>0.083333</td>\n",
       "      <td>0.000000</td>\n",
       "      <td>...</td>\n",
       "      <td>1200.0</td>\n",
       "      <td>678.334763</td>\n",
       "      <td>244.791237</td>\n",
       "      <td>0.000000</td>\n",
       "      <td>12.0</td>\n",
       "      <td>1.33</td>\n",
       "      <td>0.00</td>\n",
       "      <td>ONEOFF</td>\n",
       "      <td>16.00</td>\n",
       "      <td>0.00</td>\n",
       "    </tr>\n",
       "  </tbody>\n",
       "</table>\n",
       "<p>5 rows × 23 columns</p>\n",
       "</div>"
      ],
      "text/plain": [
       "  CUST_ID      BALANCE  BALANCE_FREQUENCY  PURCHASES  ONEOFF_PURCHASES  \\\n",
       "0  C10001    40.900749           0.818182      95.40              0.00   \n",
       "1  C10002  3202.467416           0.909091       0.00              0.00   \n",
       "2  C10003  2495.148862           1.000000     773.17            773.17   \n",
       "3  C10004  1666.670542           0.636364    1499.00           1499.00   \n",
       "4  C10005   817.714335           1.000000      16.00             16.00   \n",
       "\n",
       "   INSTALLMENTS_PURCHASES  CASH_ADVANCE  PURCHASES_FREQUENCY  \\\n",
       "0                    95.4      0.000000             0.166667   \n",
       "1                     0.0   6442.945483             0.000000   \n",
       "2                     0.0      0.000000             1.000000   \n",
       "3                     0.0    205.788017             0.083333   \n",
       "4                     0.0      0.000000             0.083333   \n",
       "\n",
       "   ONEOFF_PURCHASES_FREQUENCY  PURCHASES_INSTALLMENTS_FREQUENCY  ...  \\\n",
       "0                    0.000000                          0.083333  ...   \n",
       "1                    0.000000                          0.000000  ...   \n",
       "2                    1.000000                          0.000000  ...   \n",
       "3                    0.083333                          0.000000  ...   \n",
       "4                    0.083333                          0.000000  ...   \n",
       "\n",
       "   CREDIT_LIMIT     PAYMENTS  MINIMUM_PAYMENTS  PRC_FULL_PAYMENT  TENURE  \\\n",
       "0        1000.0   201.802084        139.509787          0.000000    12.0   \n",
       "1        7000.0  4103.032597       1072.340217          0.222222    12.0   \n",
       "2        7500.0   622.066742        627.284787          0.000000    12.0   \n",
       "3        7500.0     0.000000        540.060203          0.000000    12.0   \n",
       "4        1200.0   678.334763        244.791237          0.000000    12.0   \n",
       "\n",
       "   AVG_MONTH_PURCHASE  AVG_MONTH_CASH_ADVANCE  PURCHASE_TYPE  \\\n",
       "0                7.95                    0.00   INSTALLMENTS   \n",
       "1                0.00                  536.91           NONE   \n",
       "2               64.43                    0.00         ONEOFF   \n",
       "3              124.92                   17.15         ONEOFF   \n",
       "4                1.33                    0.00         ONEOFF   \n",
       "\n",
       "   AVG_AMT_PURCHASE_TRX  AVG_AMT_CASH_ADVANCE_TRX  \n",
       "0                 47.70                      0.00  \n",
       "1                  0.00                   1610.74  \n",
       "2                 64.43                      0.00  \n",
       "3               1499.00                    205.79  \n",
       "4                 16.00                      0.00  \n",
       "\n",
       "[5 rows x 23 columns]"
      ]
     },
     "execution_count": 39,
     "metadata": {},
     "output_type": "execute_result"
    }
   ],
   "source": [
    "data2.head()"
   ]
  },
  {
   "cell_type": "markdown",
   "metadata": {},
   "source": [
    "#### 4- Limit usage (balance to credit limit ratio)\n",
    "It tells us how much debt someone is carring or how much credit they are using from there existing limit.\n",
    "* credit utilization ratio = balance used by the customer / credit limit\n"
   ]
  },
  {
   "cell_type": "code",
   "execution_count": 40,
   "metadata": {},
   "outputs": [],
   "source": [
    "data2[\"CREDIT_UTLIZATION_RATIO\"] = round(data2[\"BALANCE\"]/data2[\"CREDIT_LIMIT\"],2)*100"
   ]
  },
  {
   "cell_type": "code",
   "execution_count": 41,
   "metadata": {},
   "outputs": [
    {
     "data": {
      "text/html": [
       "<div>\n",
       "<style scoped>\n",
       "    .dataframe tbody tr th:only-of-type {\n",
       "        vertical-align: middle;\n",
       "    }\n",
       "\n",
       "    .dataframe tbody tr th {\n",
       "        vertical-align: top;\n",
       "    }\n",
       "\n",
       "    .dataframe thead th {\n",
       "        text-align: right;\n",
       "    }\n",
       "</style>\n",
       "<table border=\"1\" class=\"dataframe\">\n",
       "  <thead>\n",
       "    <tr style=\"text-align: right;\">\n",
       "      <th></th>\n",
       "      <th>CUST_ID</th>\n",
       "      <th>BALANCE</th>\n",
       "      <th>BALANCE_FREQUENCY</th>\n",
       "      <th>PURCHASES</th>\n",
       "      <th>ONEOFF_PURCHASES</th>\n",
       "      <th>INSTALLMENTS_PURCHASES</th>\n",
       "      <th>CASH_ADVANCE</th>\n",
       "      <th>PURCHASES_FREQUENCY</th>\n",
       "      <th>ONEOFF_PURCHASES_FREQUENCY</th>\n",
       "      <th>PURCHASES_INSTALLMENTS_FREQUENCY</th>\n",
       "      <th>...</th>\n",
       "      <th>PAYMENTS</th>\n",
       "      <th>MINIMUM_PAYMENTS</th>\n",
       "      <th>PRC_FULL_PAYMENT</th>\n",
       "      <th>TENURE</th>\n",
       "      <th>AVG_MONTH_PURCHASE</th>\n",
       "      <th>AVG_MONTH_CASH_ADVANCE</th>\n",
       "      <th>PURCHASE_TYPE</th>\n",
       "      <th>AVG_AMT_PURCHASE_TRX</th>\n",
       "      <th>AVG_AMT_CASH_ADVANCE_TRX</th>\n",
       "      <th>CREDIT_UTLIZATION_RATIO</th>\n",
       "    </tr>\n",
       "  </thead>\n",
       "  <tbody>\n",
       "    <tr>\n",
       "      <td>0</td>\n",
       "      <td>C10001</td>\n",
       "      <td>40.900749</td>\n",
       "      <td>0.818182</td>\n",
       "      <td>95.40</td>\n",
       "      <td>0.00</td>\n",
       "      <td>95.4</td>\n",
       "      <td>0.000000</td>\n",
       "      <td>0.166667</td>\n",
       "      <td>0.000000</td>\n",
       "      <td>0.083333</td>\n",
       "      <td>...</td>\n",
       "      <td>201.802084</td>\n",
       "      <td>139.509787</td>\n",
       "      <td>0.000000</td>\n",
       "      <td>12.0</td>\n",
       "      <td>7.95</td>\n",
       "      <td>0.00</td>\n",
       "      <td>INSTALLMENTS</td>\n",
       "      <td>47.70</td>\n",
       "      <td>0.00</td>\n",
       "      <td>4.0</td>\n",
       "    </tr>\n",
       "    <tr>\n",
       "      <td>1</td>\n",
       "      <td>C10002</td>\n",
       "      <td>3202.467416</td>\n",
       "      <td>0.909091</td>\n",
       "      <td>0.00</td>\n",
       "      <td>0.00</td>\n",
       "      <td>0.0</td>\n",
       "      <td>6442.945483</td>\n",
       "      <td>0.000000</td>\n",
       "      <td>0.000000</td>\n",
       "      <td>0.000000</td>\n",
       "      <td>...</td>\n",
       "      <td>4103.032597</td>\n",
       "      <td>1072.340217</td>\n",
       "      <td>0.222222</td>\n",
       "      <td>12.0</td>\n",
       "      <td>0.00</td>\n",
       "      <td>536.91</td>\n",
       "      <td>NONE</td>\n",
       "      <td>0.00</td>\n",
       "      <td>1610.74</td>\n",
       "      <td>46.0</td>\n",
       "    </tr>\n",
       "    <tr>\n",
       "      <td>2</td>\n",
       "      <td>C10003</td>\n",
       "      <td>2495.148862</td>\n",
       "      <td>1.000000</td>\n",
       "      <td>773.17</td>\n",
       "      <td>773.17</td>\n",
       "      <td>0.0</td>\n",
       "      <td>0.000000</td>\n",
       "      <td>1.000000</td>\n",
       "      <td>1.000000</td>\n",
       "      <td>0.000000</td>\n",
       "      <td>...</td>\n",
       "      <td>622.066742</td>\n",
       "      <td>627.284787</td>\n",
       "      <td>0.000000</td>\n",
       "      <td>12.0</td>\n",
       "      <td>64.43</td>\n",
       "      <td>0.00</td>\n",
       "      <td>ONEOFF</td>\n",
       "      <td>64.43</td>\n",
       "      <td>0.00</td>\n",
       "      <td>33.0</td>\n",
       "    </tr>\n",
       "    <tr>\n",
       "      <td>3</td>\n",
       "      <td>C10004</td>\n",
       "      <td>1666.670542</td>\n",
       "      <td>0.636364</td>\n",
       "      <td>1499.00</td>\n",
       "      <td>1499.00</td>\n",
       "      <td>0.0</td>\n",
       "      <td>205.788017</td>\n",
       "      <td>0.083333</td>\n",
       "      <td>0.083333</td>\n",
       "      <td>0.000000</td>\n",
       "      <td>...</td>\n",
       "      <td>0.000000</td>\n",
       "      <td>540.060203</td>\n",
       "      <td>0.000000</td>\n",
       "      <td>12.0</td>\n",
       "      <td>124.92</td>\n",
       "      <td>17.15</td>\n",
       "      <td>ONEOFF</td>\n",
       "      <td>1499.00</td>\n",
       "      <td>205.79</td>\n",
       "      <td>22.0</td>\n",
       "    </tr>\n",
       "    <tr>\n",
       "      <td>4</td>\n",
       "      <td>C10005</td>\n",
       "      <td>817.714335</td>\n",
       "      <td>1.000000</td>\n",
       "      <td>16.00</td>\n",
       "      <td>16.00</td>\n",
       "      <td>0.0</td>\n",
       "      <td>0.000000</td>\n",
       "      <td>0.083333</td>\n",
       "      <td>0.083333</td>\n",
       "      <td>0.000000</td>\n",
       "      <td>...</td>\n",
       "      <td>678.334763</td>\n",
       "      <td>244.791237</td>\n",
       "      <td>0.000000</td>\n",
       "      <td>12.0</td>\n",
       "      <td>1.33</td>\n",
       "      <td>0.00</td>\n",
       "      <td>ONEOFF</td>\n",
       "      <td>16.00</td>\n",
       "      <td>0.00</td>\n",
       "      <td>68.0</td>\n",
       "    </tr>\n",
       "  </tbody>\n",
       "</table>\n",
       "<p>5 rows × 24 columns</p>\n",
       "</div>"
      ],
      "text/plain": [
       "  CUST_ID      BALANCE  BALANCE_FREQUENCY  PURCHASES  ONEOFF_PURCHASES  \\\n",
       "0  C10001    40.900749           0.818182      95.40              0.00   \n",
       "1  C10002  3202.467416           0.909091       0.00              0.00   \n",
       "2  C10003  2495.148862           1.000000     773.17            773.17   \n",
       "3  C10004  1666.670542           0.636364    1499.00           1499.00   \n",
       "4  C10005   817.714335           1.000000      16.00             16.00   \n",
       "\n",
       "   INSTALLMENTS_PURCHASES  CASH_ADVANCE  PURCHASES_FREQUENCY  \\\n",
       "0                    95.4      0.000000             0.166667   \n",
       "1                     0.0   6442.945483             0.000000   \n",
       "2                     0.0      0.000000             1.000000   \n",
       "3                     0.0    205.788017             0.083333   \n",
       "4                     0.0      0.000000             0.083333   \n",
       "\n",
       "   ONEOFF_PURCHASES_FREQUENCY  PURCHASES_INSTALLMENTS_FREQUENCY  ...  \\\n",
       "0                    0.000000                          0.083333  ...   \n",
       "1                    0.000000                          0.000000  ...   \n",
       "2                    1.000000                          0.000000  ...   \n",
       "3                    0.083333                          0.000000  ...   \n",
       "4                    0.083333                          0.000000  ...   \n",
       "\n",
       "      PAYMENTS  MINIMUM_PAYMENTS  PRC_FULL_PAYMENT  TENURE  \\\n",
       "0   201.802084        139.509787          0.000000    12.0   \n",
       "1  4103.032597       1072.340217          0.222222    12.0   \n",
       "2   622.066742        627.284787          0.000000    12.0   \n",
       "3     0.000000        540.060203          0.000000    12.0   \n",
       "4   678.334763        244.791237          0.000000    12.0   \n",
       "\n",
       "   AVG_MONTH_PURCHASE  AVG_MONTH_CASH_ADVANCE  PURCHASE_TYPE  \\\n",
       "0                7.95                    0.00   INSTALLMENTS   \n",
       "1                0.00                  536.91           NONE   \n",
       "2               64.43                    0.00         ONEOFF   \n",
       "3              124.92                   17.15         ONEOFF   \n",
       "4                1.33                    0.00         ONEOFF   \n",
       "\n",
       "   AVG_AMT_PURCHASE_TRX  AVG_AMT_CASH_ADVANCE_TRX  CREDIT_UTLIZATION_RATIO  \n",
       "0                 47.70                      0.00                      4.0  \n",
       "1                  0.00                   1610.74                     46.0  \n",
       "2                 64.43                      0.00                     33.0  \n",
       "3               1499.00                    205.79                     22.0  \n",
       "4                 16.00                      0.00                     68.0  \n",
       "\n",
       "[5 rows x 24 columns]"
      ]
     },
     "execution_count": 41,
     "metadata": {},
     "output_type": "execute_result"
    }
   ],
   "source": [
    "data2.head()"
   ]
  },
  {
   "cell_type": "markdown",
   "metadata": {},
   "source": [
    "#### 5- Payments to minimum payments ratio etc."
   ]
  },
  {
   "cell_type": "code",
   "execution_count": 42,
   "metadata": {},
   "outputs": [],
   "source": [
    "data2[\"PAY_MIN_PAY_RATIO\"] = data2[\"PAYMENTS\"]/data2[\"MINIMUM_PAYMENTS\"]"
   ]
  },
  {
   "cell_type": "markdown",
   "metadata": {},
   "source": [
    "#### 6- Using the derived KPIs to gain insight on the customer profiles.\n"
   ]
  },
  {
   "cell_type": "code",
   "execution_count": 43,
   "metadata": {},
   "outputs": [
    {
     "data": {
      "text/plain": [
       "Index(['CUST_ID', 'BALANCE', 'BALANCE_FREQUENCY', 'PURCHASES',\n",
       "       'ONEOFF_PURCHASES', 'INSTALLMENTS_PURCHASES', 'CASH_ADVANCE',\n",
       "       'PURCHASES_FREQUENCY', 'ONEOFF_PURCHASES_FREQUENCY',\n",
       "       'PURCHASES_INSTALLMENTS_FREQUENCY', 'CASH_ADVANCE_FREQUENCY',\n",
       "       'CASH_ADVANCE_TRX', 'PURCHASES_TRX', 'CREDIT_LIMIT', 'PAYMENTS',\n",
       "       'MINIMUM_PAYMENTS', 'PRC_FULL_PAYMENT', 'TENURE', 'AVG_MONTH_PURCHASE',\n",
       "       'AVG_MONTH_CASH_ADVANCE', 'PURCHASE_TYPE', 'AVG_AMT_PURCHASE_TRX',\n",
       "       'AVG_AMT_CASH_ADVANCE_TRX', 'CREDIT_UTLIZATION_RATIO',\n",
       "       'PAY_MIN_PAY_RATIO'],\n",
       "      dtype='object')"
      ]
     },
     "execution_count": 43,
     "metadata": {},
     "output_type": "execute_result"
    }
   ],
   "source": [
    "data2.columns"
   ]
  },
  {
   "cell_type": "markdown",
   "metadata": {},
   "source": [
    "##### Distribution Of Purchase Types"
   ]
  },
  {
   "cell_type": "code",
   "execution_count": 44,
   "metadata": {},
   "outputs": [
    {
     "data": {
      "image/png": "[encoded data removed]",
      "text/plain": [
       "<Figure size 432x288 with 1 Axes>"
      ]
     },
     "metadata": {
      "needs_background": "light"
     },
     "output_type": "display_data"
    }
   ],
   "source": [
    "import seaborn as sns\n",
    "#plt.bar(data2.PURCHASE_TYPE,data2.AVG_MONTH_PURCHASE)\n",
    "sns.countplot(data=data2,x=\"PURCHASE_TYPE\")\n",
    "plt.title(\"Distribution Of Users in Diffrent Purchase Types\")\n",
    "plt.show()"
   ]
  },
  {
   "cell_type": "markdown",
   "metadata": {},
   "source": [
    "##### Credit Utlization By Diffrent Purchase Types"
   ]
  },
  {
   "cell_type": "code",
   "execution_count": 45,
   "metadata": {},
   "outputs": [
    {
     "data": {
      "image/png": "[encoded data removed]",
      "text/plain": [
       "<Figure size 432x288 with 1 Axes>"
      ]
     },
     "metadata": {
      "needs_background": "light"
     },
     "output_type": "display_data"
    }
   ],
   "source": [
    "#plt.bar(data2.PURCHASE_TYPE,data2.AVG_MONTH_PURCHASE)\n",
    "sns.barplot(data=data2,x=\"PURCHASE_TYPE\",y=\"CREDIT_UTLIZATION_RATIO\")\n",
    "plt.title(\"Credit Utlization By Diffrent Purchase Types\")\n",
    "plt.show()"
   ]
  },
  {
   "cell_type": "markdown",
   "metadata": {},
   "source": [
    "##### Total Of Purchases By Diffrent Purchase Type"
   ]
  },
  {
   "cell_type": "code",
   "execution_count": 46,
   "metadata": {},
   "outputs": [
    {
     "data": {
      "image/png": "[encoded data removed]",
      "text/plain": [
       "<Figure size 432x288 with 1 Axes>"
      ]
     },
     "metadata": {
      "needs_background": "light"
     },
     "output_type": "display_data"
    }
   ],
   "source": [
    "sns.barplot(data=data2,x=\"PURCHASE_TYPE\",y=\"PURCHASES\")\n",
    "plt.title(\"Total Of Purchases By Diffrent Purchase Type\")\n",
    "plt.show()"
   ]
  },
  {
   "cell_type": "markdown",
   "metadata": {},
   "source": [
    "#### 7- Identification of the Relationships/ affinities between services.\n"
   ]
  },
  {
   "cell_type": "markdown",
   "metadata": {},
   "source": [
    "#####  Out of 8950 observation only \n"
   ]
  },
  {
   "cell_type": "code",
   "execution_count": 47,
   "metadata": {},
   "outputs": [],
   "source": [
    "def p_check(data2):\n",
    "    if data2[\"PAY_MIN_PAY_RATIO\"]==0.0 :\n",
    "        return \"paid_full_due\"\n",
    "    if data2[\"PAY_MIN_PAY_RATIO\"]>0.0 :\n",
    "        return \"paid_min_due\"\n",
    "data2[\"PAYMENT_INFO\"] = data2.apply(p_check,axis=1)"
   ]
  },
  {
   "cell_type": "code",
   "execution_count": 48,
   "metadata": {},
   "outputs": [
    {
     "data": {
      "text/plain": [
       "paid_min_due     8710\n",
       "paid_full_due     240\n",
       "Name: PAYMENT_INFO, dtype: int64"
      ]
     },
     "execution_count": 48,
     "metadata": {},
     "output_type": "execute_result"
    }
   ],
   "source": [
    "data2[\"PAYMENT_INFO\"].value_counts()"
   ]
  },
  {
   "cell_type": "markdown",
   "metadata": {},
   "source": [
    "* 240 users paid full dues\n",
    "* the rest 8710 users only paid minimum dues of there card bill\n",
    "* i.e 97 % user only pay min payment of there card bill"
   ]
  },
  {
   "cell_type": "markdown",
   "metadata": {},
   "source": [
    "##### Joint two way Table of Payment Info and Purchase Type"
   ]
  },
  {
   "cell_type": "code",
   "execution_count": 49,
   "metadata": {},
   "outputs": [
    {
     "data": {
      "text/html": [
       "<div>\n",
       "<style scoped>\n",
       "    .dataframe tbody tr th:only-of-type {\n",
       "        vertical-align: middle;\n",
       "    }\n",
       "\n",
       "    .dataframe tbody tr th {\n",
       "        vertical-align: top;\n",
       "    }\n",
       "\n",
       "    .dataframe thead th {\n",
       "        text-align: right;\n",
       "    }\n",
       "</style>\n",
       "<table border=\"1\" class=\"dataframe\">\n",
       "  <thead>\n",
       "    <tr style=\"text-align: right;\">\n",
       "      <th>PAYMENT_INFO</th>\n",
       "      <th>paid_full_due</th>\n",
       "      <th>paid_min_due</th>\n",
       "    </tr>\n",
       "    <tr>\n",
       "      <th>PURCHASE_TYPE</th>\n",
       "      <th></th>\n",
       "      <th></th>\n",
       "    </tr>\n",
       "  </thead>\n",
       "  <tbody>\n",
       "    <tr>\n",
       "      <td>BOTH</td>\n",
       "      <td>28</td>\n",
       "      <td>2746</td>\n",
       "    </tr>\n",
       "    <tr>\n",
       "      <td>INSTALLMENTS</td>\n",
       "      <td>69</td>\n",
       "      <td>2191</td>\n",
       "    </tr>\n",
       "    <tr>\n",
       "      <td>NONE</td>\n",
       "      <td>68</td>\n",
       "      <td>1974</td>\n",
       "    </tr>\n",
       "    <tr>\n",
       "      <td>ONEOFF</td>\n",
       "      <td>75</td>\n",
       "      <td>1799</td>\n",
       "    </tr>\n",
       "  </tbody>\n",
       "</table>\n",
       "</div>"
      ],
      "text/plain": [
       "PAYMENT_INFO   paid_full_due  paid_min_due\n",
       "PURCHASE_TYPE                             \n",
       "BOTH                      28          2746\n",
       "INSTALLMENTS              69          2191\n",
       "NONE                      68          1974\n",
       "ONEOFF                    75          1799"
      ]
     },
     "execution_count": 49,
     "metadata": {},
     "output_type": "execute_result"
    }
   ],
   "source": [
    "pd.crosstab(data2[\"PURCHASE_TYPE\"],data2[\"PAYMENT_INFO\"])"
   ]
  },
  {
   "cell_type": "code",
   "execution_count": 51,
   "metadata": {
    "scrolled": true
   },
   "outputs": [
    {
     "data": {
      "image/png": "[encoded data removed]",
      "text/plain": [
       "<Figure size 432x288 with 1 Axes>"
      ]
     },
     "metadata": {
      "needs_background": "light"
     },
     "output_type": "display_data"
    }
   ],
   "source": [
    "sns.barplot(data=data2,x=\"PURCHASE_TYPE\",y=\"PURCHASES\", hue=\"PAYMENT_INFO\")\n",
    "plt.title(\"Total Of Purchases By Diffrent Purchase Type\")\n",
    "plt.show()"
   ]
  },
  {
   "cell_type": "code",
   "execution_count": 52,
   "metadata": {},
   "outputs": [
    {
     "data": {
      "image/png": "[encoded data removed]",
      "text/plain": [
       "<Figure size 432x288 with 1 Axes>"
      ]
     },
     "metadata": {
      "needs_background": "light"
     },
     "output_type": "display_data"
    }
   ],
   "source": [
    "sns.barplot(data=data2,x=\"PURCHASE_TYPE\",y=\"CREDIT_UTLIZATION_RATIO\", hue=\"PAYMENT_INFO\")\n",
    "plt.title(\"Credit Utlization By Diffrent Purchase Types\")\n",
    "plt.show()"
   ]
  },
  {
   "cell_type": "markdown",
   "metadata": {},
   "source": [
    "#### Removing Outlier"
   ]
  },
  {
   "cell_type": "code",
   "execution_count": 114,
   "metadata": {},
   "outputs": [
    {
     "name": "stdout",
     "output_type": "stream",
     "text": [
      "BALANCE\n",
      "-2760.5052645\n",
      "4942.9272155\n",
      "BALANCE_FREQUENCY\n",
      "0.5833325\n",
      "1.2500005\n",
      "PURCHASES\n",
      "-1677.84875\n",
      "2943.08125\n",
      "ONEOFF_PURCHASES\n",
      "-652.94625\n",
      "1088.24375\n",
      "INSTALLMENTS_PURCHASES\n",
      "-628.6725\n",
      "1047.7875\n",
      "CASH_ADVANCE\n",
      "-1674.0363720000003\n",
      "2790.06062\n",
      "PURCHASES_FREQUENCY\n",
      "-1.3125\n",
      "2.1875\n",
      "ONEOFF_PURCHASES_FREQUENCY\n",
      "-0.2500005\n",
      "0.4166675\n",
      "PURCHASES_INSTALLMENTS_FREQUENCY\n",
      "-1.125\n",
      "1.875\n",
      "CASH_ADVANCE_FREQUENCY\n",
      "-0.2500005\n",
      "0.4166675\n",
      "CASH_ADVANCE_TRX\n",
      "-4.5\n",
      "7.5\n",
      "PURCHASES_TRX\n",
      "-18.0\n",
      "30.0\n",
      "CREDIT_LIMIT\n",
      "-2500.0\n",
      "7900.0\n",
      "PAYMENTS\n",
      "-592.1819977499999\n",
      "1742.90419225\n",
      "MINIMUM_PAYMENTS\n",
      "-462.5982571249998\n",
      "1208.6587158749999\n",
      "PRC_FULL_PAYMENT\n",
      "-0.15000000000000002\n",
      "0.25\n",
      "TENURE\n",
      "12.0\n",
      "12.0\n",
      "AVG_MONTH_PURCHASE\n",
      "-52.6725\n",
      "87.7875\n",
      "AVG_MONTH_CASH_ADVANCE\n",
      "-56.09625\n",
      "93.49375\n",
      "AVG_AMT_PURCHASE_TRX\n",
      "-85.005\n",
      "141.675\n",
      "AVG_AMT_CASH_ADVANCE_TRX\n",
      "-161.1825\n",
      "268.6375\n",
      "CREDIT_UTLIZATION_RATIO\n",
      "-112.5\n",
      "211.5\n",
      "PAY_MIN_PAY_RATIO\n",
      "-1.310831718549734\n",
      "4.308729658738758\n"
     ]
    }
   ],
   "source": [
    "# using box plot\n",
    "data3 = data2.copy()\n",
    "\n",
    "cnames=list(data3.columns)\n",
    "for i in cnames:\n",
    "    if isinstance(data3[i].iloc[1] , float) or isinstance(data3[i].iloc[1] , int) :\n",
    "        print(i)\n",
    "        q75, q25 = np.percentile(data3.loc[:,i], [75 ,25])\n",
    "        iqr = q75 - q25\n",
    "\n",
    "        min = q25 - (iqr*1.5)\n",
    "        max = q75 + (iqr*1.5)\n",
    "        print(min)\n",
    "        print(max)\n",
    "    \n",
    "        data3 = data3.drop(data3[data3.loc[:,i] < min].index)    \n",
    "        data3 = data3.drop(data3[data3.loc[:,i] > max].index)\n",
    "data3.shape\n",
    "# creating the list of our purchase type\n",
    "label = list(data3.PURCHASE_TYPE )"
   ]
  },
  {
   "cell_type": "markdown",
   "metadata": {},
   "source": [
    "### Scaling Variables\n",
    "Prior to applying a clustering algorithm we need to recentre the scales of our variables \n",
    "* First we will check convert all the objects into dummy variable.\n",
    "* Second we will check for normality of data using jarque-bera test so that we can apply a suitable scaling technique."
   ]
  },
  {
   "cell_type": "markdown",
   "metadata": {},
   "source": [
    "##### Converting into Dummy Variables"
   ]
  },
  {
   "cell_type": "code",
   "execution_count": 115,
   "metadata": {
    "scrolled": true
   },
   "outputs": [],
   "source": [
    "col = list(data3.columns)\n",
    "num = []\n",
    "obj = []\n",
    "for i in col:\n",
    "    if isinstance(data3[i].iloc[1] , float) or isinstance(data3[i].iloc[1] , int) :\n",
    "        num.append(i)\n",
    "    else :\n",
    "        obj.append(i)            "
   ]
  },
  {
   "cell_type": "code",
   "execution_count": 116,
   "metadata": {
    "scrolled": true
   },
   "outputs": [],
   "source": [
    "PURCHASE_TYPE=pd.get_dummies(data3[obj[1]])\n",
    "PAYMENT_INFO=pd.get_dummies(data3[obj[2]])\n",
    "data3=pd.concat([data3[num],PURCHASE_TYPE,PAYMENT_INFO],axis=1)"
   ]
  },
  {
   "cell_type": "code",
   "execution_count": 117,
   "metadata": {},
   "outputs": [
    {
     "data": {
      "text/html": [
       "<div>\n",
       "<style scoped>\n",
       "    .dataframe tbody tr th:only-of-type {\n",
       "        vertical-align: middle;\n",
       "    }\n",
       "\n",
       "    .dataframe tbody tr th {\n",
       "        vertical-align: top;\n",
       "    }\n",
       "\n",
       "    .dataframe thead th {\n",
       "        text-align: right;\n",
       "    }\n",
       "</style>\n",
       "<table border=\"1\" class=\"dataframe\">\n",
       "  <thead>\n",
       "    <tr style=\"text-align: right;\">\n",
       "      <th></th>\n",
       "      <th>BALANCE</th>\n",
       "      <th>BALANCE_FREQUENCY</th>\n",
       "      <th>PURCHASES</th>\n",
       "      <th>ONEOFF_PURCHASES</th>\n",
       "      <th>INSTALLMENTS_PURCHASES</th>\n",
       "      <th>CASH_ADVANCE</th>\n",
       "      <th>PURCHASES_FREQUENCY</th>\n",
       "      <th>ONEOFF_PURCHASES_FREQUENCY</th>\n",
       "      <th>PURCHASES_INSTALLMENTS_FREQUENCY</th>\n",
       "      <th>CASH_ADVANCE_FREQUENCY</th>\n",
       "      <th>...</th>\n",
       "      <th>AVG_AMT_PURCHASE_TRX</th>\n",
       "      <th>AVG_AMT_CASH_ADVANCE_TRX</th>\n",
       "      <th>CREDIT_UTLIZATION_RATIO</th>\n",
       "      <th>PAY_MIN_PAY_RATIO</th>\n",
       "      <th>BOTH</th>\n",
       "      <th>INSTALLMENTS</th>\n",
       "      <th>NONE</th>\n",
       "      <th>ONEOFF</th>\n",
       "      <th>paid_full_due</th>\n",
       "      <th>paid_min_due</th>\n",
       "    </tr>\n",
       "  </thead>\n",
       "  <tbody>\n",
       "    <tr>\n",
       "      <td>0</td>\n",
       "      <td>40.900749</td>\n",
       "      <td>0.818182</td>\n",
       "      <td>95.4</td>\n",
       "      <td>0.0</td>\n",
       "      <td>95.4</td>\n",
       "      <td>0.0</td>\n",
       "      <td>0.166667</td>\n",
       "      <td>0.000000</td>\n",
       "      <td>0.083333</td>\n",
       "      <td>0.0</td>\n",
       "      <td>...</td>\n",
       "      <td>47.7</td>\n",
       "      <td>0.0</td>\n",
       "      <td>4.0</td>\n",
       "      <td>1.446508</td>\n",
       "      <td>0</td>\n",
       "      <td>1</td>\n",
       "      <td>0</td>\n",
       "      <td>0</td>\n",
       "      <td>0</td>\n",
       "      <td>1</td>\n",
       "    </tr>\n",
       "    <tr>\n",
       "      <td>4</td>\n",
       "      <td>817.714335</td>\n",
       "      <td>1.000000</td>\n",
       "      <td>16.0</td>\n",
       "      <td>16.0</td>\n",
       "      <td>0.0</td>\n",
       "      <td>0.0</td>\n",
       "      <td>0.083333</td>\n",
       "      <td>0.083333</td>\n",
       "      <td>0.000000</td>\n",
       "      <td>0.0</td>\n",
       "      <td>...</td>\n",
       "      <td>16.0</td>\n",
       "      <td>0.0</td>\n",
       "      <td>68.0</td>\n",
       "      <td>2.771075</td>\n",
       "      <td>0</td>\n",
       "      <td>0</td>\n",
       "      <td>0</td>\n",
       "      <td>1</td>\n",
       "      <td>0</td>\n",
       "      <td>1</td>\n",
       "    </tr>\n",
       "  </tbody>\n",
       "</table>\n",
       "<p>2 rows × 29 columns</p>\n",
       "</div>"
      ],
      "text/plain": [
       "      BALANCE  BALANCE_FREQUENCY  PURCHASES  ONEOFF_PURCHASES  \\\n",
       "0   40.900749           0.818182       95.4               0.0   \n",
       "4  817.714335           1.000000       16.0              16.0   \n",
       "\n",
       "   INSTALLMENTS_PURCHASES  CASH_ADVANCE  PURCHASES_FREQUENCY  \\\n",
       "0                    95.4           0.0             0.166667   \n",
       "4                     0.0           0.0             0.083333   \n",
       "\n",
       "   ONEOFF_PURCHASES_FREQUENCY  PURCHASES_INSTALLMENTS_FREQUENCY  \\\n",
       "0                    0.000000                          0.083333   \n",
       "4                    0.083333                          0.000000   \n",
       "\n",
       "   CASH_ADVANCE_FREQUENCY  ...  AVG_AMT_PURCHASE_TRX  \\\n",
       "0                     0.0  ...                  47.7   \n",
       "4                     0.0  ...                  16.0   \n",
       "\n",
       "   AVG_AMT_CASH_ADVANCE_TRX  CREDIT_UTLIZATION_RATIO  PAY_MIN_PAY_RATIO  BOTH  \\\n",
       "0                       0.0                      4.0           1.446508     0   \n",
       "4                       0.0                     68.0           2.771075     0   \n",
       "\n",
       "   INSTALLMENTS  NONE  ONEOFF  paid_full_due  paid_min_due  \n",
       "0             1     0       0              0             1  \n",
       "4             0     0       1              0             1  \n",
       "\n",
       "[2 rows x 29 columns]"
      ]
     },
     "execution_count": 117,
     "metadata": {},
     "output_type": "execute_result"
    }
   ],
   "source": [
    "data3.head(2)"
   ]
  },
  {
   "cell_type": "markdown",
   "metadata": {},
   "source": [
    "##### Applying jarque_bera test on all the numerical variables of data frame\n",
    "at alpha value of 0.05\n",
    "* Null hypothesis: data comes from a normal distribution.\n",
    "* Alternate hypothesis: data doesnot comes from a normal distribution."
   ]
  },
  {
   "cell_type": "code",
   "execution_count": 118,
   "metadata": {
    "scrolled": true
   },
   "outputs": [
    {
     "name": "stdout",
     "output_type": "stream",
     "text": [
      "BALANCE\n",
      "138.63901655636792 0.0\n",
      "Sample does not look normal (reject H0)\n",
      "BALANCE_FREQUENCY\n",
      "10685.384753916698 0.0\n",
      "Sample does not look normal (reject H0)\n",
      "PURCHASES\n",
      "365.727352933399 0.0\n",
      "Sample does not look normal (reject H0)\n",
      "ONEOFF_PURCHASES\n",
      "5020.506260244015 0.0\n",
      "Sample does not look normal (reject H0)\n",
      "INSTALLMENTS_PURCHASES\n",
      "751.6235727834444 0.0\n",
      "Sample does not look normal (reject H0)\n",
      "CASH_ADVANCE\n",
      "3270.37597898069 0.0\n",
      "Sample does not look normal (reject H0)\n",
      "PURCHASES_FREQUENCY\n",
      "144.69568478901894 0.0\n",
      "Sample does not look normal (reject H0)\n",
      "ONEOFF_PURCHASES_FREQUENCY\n",
      "843.3292276562219 0.0\n",
      "Sample does not look normal (reject H0)\n",
      "PURCHASES_INSTALLMENTS_FREQUENCY\n",
      "190.09553740338364 0.0\n",
      "Sample does not look normal (reject H0)\n",
      "CASH_ADVANCE_FREQUENCY\n",
      "448.69825641308137 0.0\n",
      "Sample does not look normal (reject H0)\n",
      "CASH_ADVANCE_TRX\n",
      "585.6272517198349 0.0\n",
      "Sample does not look normal (reject H0)\n",
      "PURCHASES_TRX\n",
      "349.6255594799065 0.0\n",
      "Sample does not look normal (reject H0)\n",
      "CREDIT_LIMIT\n",
      "667.2463453716421 0.0\n",
      "Sample does not look normal (reject H0)\n",
      "PAYMENTS\n",
      "760.1876030314306 0.0\n",
      "Sample does not look normal (reject H0)\n",
      "MINIMUM_PAYMENTS\n",
      "202.71355173029562 0.0\n",
      "Sample does not look normal (reject H0)\n",
      "PRC_FULL_PAYMENT\n",
      "7125.664416992072 0.0\n",
      "Sample does not look normal (reject H0)\n",
      "TENURE\n",
      "nan nan\n",
      "Sample does not look normal (reject H0)\n",
      "AVG_MONTH_PURCHASE\n",
      "365.73874115893494 0.0\n",
      "Sample does not look normal (reject H0)\n",
      "AVG_MONTH_CASH_ADVANCE\n",
      "3270.3357323626587 0.0\n",
      "Sample does not look normal (reject H0)\n",
      "AVG_AMT_PURCHASE_TRX\n",
      "322.6054302513161 0.0\n",
      "Sample does not look normal (reject H0)\n",
      "AVG_AMT_CASH_ADVANCE_TRX\n",
      "683.3686234463623 0.0\n",
      "Sample does not look normal (reject H0)\n",
      "CREDIT_UTLIZATION_RATIO\n",
      "161.18396275805054 0.0\n",
      "Sample does not look normal (reject H0)\n",
      "PAY_MIN_PAY_RATIO\n",
      "471.93643158193936 0.0\n",
      "Sample does not look normal (reject H0)\n"
     ]
    },
    {
     "name": "stderr",
     "output_type": "stream",
     "text": [
      "/home/mayank/anaconda3/lib/python3.7/site-packages/scipy/stats/stats.py:1600: RuntimeWarning: invalid value encountered in double_scalars\n",
      "  skewness = (1 / n * np.sum(diffx**3)) / (1 / n * np.sum(diffx**2))**(3 / 2.)\n",
      "/home/mayank/anaconda3/lib/python3.7/site-packages/scipy/stats/stats.py:1601: RuntimeWarning: invalid value encountered in double_scalars\n",
      "  kurtosis = (1 / n * np.sum(diffx**4)) / (1 / n * np.sum(diffx**2))**2\n"
     ]
    }
   ],
   "source": [
    "from scipy import stats\n",
    "alpha = 0.05\n",
    "col = list(data3.columns)\n",
    "f=1\n",
    "for i in col:\n",
    "     if isinstance(data3[i].iloc[1] , float) or isinstance(data3[i].iloc[1] , int) :\n",
    "        print(i)\n",
    "        stat,p = stats.jarque_bera(data3[i])\n",
    "        print(stat, p)\n",
    "        if p > alpha:\n",
    "            print('Sample looks normal (fail to reject H0)')\n",
    "        else:\n",
    "            print('Sample does not look normal (reject H0)') "
   ]
  },
  {
   "cell_type": "markdown",
   "metadata": {},
   "source": [
    "Since p-value is less than our alpha which shows strong evidence against our Null hypothesis \n",
    "* we will Reject the null hypothesis stating that the following columns the dataframe are not normal"
   ]
  },
  {
   "cell_type": "markdown",
   "metadata": {},
   "source": [
    "#### Since are data is not normal we will scale the variable using min max normalization technique"
   ]
  },
  {
   "cell_type": "code",
   "execution_count": 119,
   "metadata": {},
   "outputs": [],
   "source": [
    "#importing minmax scaler\n",
    "from sklearn import preprocessing\n",
    "scaler = preprocessing.MinMaxScaler(feature_range=(0, 1))\n",
    "#scaler = preprocessing.StandardScaler()"
   ]
  },
  {
   "cell_type": "code",
   "execution_count": 120,
   "metadata": {},
   "outputs": [
    {
     "name": "stderr",
     "output_type": "stream",
     "text": [
      "/home/mayank/anaconda3/lib/python3.7/site-packages/ipykernel_launcher.py:2: FutureWarning: Method .as_matrix will be removed in a future version. Use .values instead.\n",
      "  \n"
     ]
    }
   ],
   "source": [
    "# converting our data frame into matrix\n",
    "data3 = data3.as_matrix().astype(np.float)\n",
    "data3 =np.nan_to_num(data3)"
   ]
  },
  {
   "cell_type": "code",
   "execution_count": 121,
   "metadata": {},
   "outputs": [],
   "source": [
    "# applying scaler on our data and coverting i into a data frame\n",
    "data3_minmax = pd.DataFrame((scaler.fit_transform(data3)))\n"
   ]
  },
  {
   "cell_type": "code",
   "execution_count": 122,
   "metadata": {},
   "outputs": [],
   "source": [
    "# renaming columns\n",
    "data3_minmax.columns = col"
   ]
  },
  {
   "cell_type": "code",
   "execution_count": 123,
   "metadata": {
    "scrolled": true
   },
   "outputs": [
    {
     "data": {
      "text/html": [
       "<div>\n",
       "<style scoped>\n",
       "    .dataframe tbody tr th:only-of-type {\n",
       "        vertical-align: middle;\n",
       "    }\n",
       "\n",
       "    .dataframe tbody tr th {\n",
       "        vertical-align: top;\n",
       "    }\n",
       "\n",
       "    .dataframe thead th {\n",
       "        text-align: right;\n",
       "    }\n",
       "</style>\n",
       "<table border=\"1\" class=\"dataframe\">\n",
       "  <thead>\n",
       "    <tr style=\"text-align: right;\">\n",
       "      <th></th>\n",
       "      <th>BALANCE</th>\n",
       "      <th>BALANCE_FREQUENCY</th>\n",
       "      <th>PURCHASES</th>\n",
       "      <th>ONEOFF_PURCHASES</th>\n",
       "      <th>INSTALLMENTS_PURCHASES</th>\n",
       "      <th>CASH_ADVANCE</th>\n",
       "      <th>PURCHASES_FREQUENCY</th>\n",
       "      <th>ONEOFF_PURCHASES_FREQUENCY</th>\n",
       "      <th>PURCHASES_INSTALLMENTS_FREQUENCY</th>\n",
       "      <th>CASH_ADVANCE_FREQUENCY</th>\n",
       "      <th>...</th>\n",
       "      <th>AVG_AMT_PURCHASE_TRX</th>\n",
       "      <th>AVG_AMT_CASH_ADVANCE_TRX</th>\n",
       "      <th>CREDIT_UTLIZATION_RATIO</th>\n",
       "      <th>PAY_MIN_PAY_RATIO</th>\n",
       "      <th>BOTH</th>\n",
       "      <th>INSTALLMENTS</th>\n",
       "      <th>NONE</th>\n",
       "      <th>ONEOFF</th>\n",
       "      <th>paid_full_due</th>\n",
       "      <th>paid_min_due</th>\n",
       "    </tr>\n",
       "  </thead>\n",
       "  <tbody>\n",
       "    <tr>\n",
       "      <td>0</td>\n",
       "      <td>0.009081</td>\n",
       "      <td>0.5</td>\n",
       "      <td>0.091342</td>\n",
       "      <td>0.000000</td>\n",
       "      <td>0.093460</td>\n",
       "      <td>0.000000</td>\n",
       "      <td>0.166667</td>\n",
       "      <td>0.000000</td>\n",
       "      <td>0.083333</td>\n",
       "      <td>0.0</td>\n",
       "      <td>...</td>\n",
       "      <td>0.337102</td>\n",
       "      <td>0.000000</td>\n",
       "      <td>0.035398</td>\n",
       "      <td>0.335822</td>\n",
       "      <td>0.0</td>\n",
       "      <td>1.0</td>\n",
       "      <td>0.0</td>\n",
       "      <td>0.0</td>\n",
       "      <td>0.0</td>\n",
       "      <td>1.0</td>\n",
       "    </tr>\n",
       "    <tr>\n",
       "      <td>1</td>\n",
       "      <td>0.187469</td>\n",
       "      <td>1.0</td>\n",
       "      <td>0.015319</td>\n",
       "      <td>0.015682</td>\n",
       "      <td>0.000000</td>\n",
       "      <td>0.000000</td>\n",
       "      <td>0.083333</td>\n",
       "      <td>0.199999</td>\n",
       "      <td>0.000000</td>\n",
       "      <td>0.0</td>\n",
       "      <td>...</td>\n",
       "      <td>0.113074</td>\n",
       "      <td>0.000000</td>\n",
       "      <td>0.601770</td>\n",
       "      <td>0.643335</td>\n",
       "      <td>0.0</td>\n",
       "      <td>0.0</td>\n",
       "      <td>0.0</td>\n",
       "      <td>1.0</td>\n",
       "      <td>0.0</td>\n",
       "      <td>1.0</td>\n",
       "    </tr>\n",
       "    <tr>\n",
       "      <td>2</td>\n",
       "      <td>0.418474</td>\n",
       "      <td>1.0</td>\n",
       "      <td>0.417644</td>\n",
       "      <td>0.000000</td>\n",
       "      <td>0.427329</td>\n",
       "      <td>0.000000</td>\n",
       "      <td>1.000000</td>\n",
       "      <td>0.000000</td>\n",
       "      <td>1.000000</td>\n",
       "      <td>0.0</td>\n",
       "      <td>...</td>\n",
       "      <td>0.256890</td>\n",
       "      <td>0.000000</td>\n",
       "      <td>0.699115</td>\n",
       "      <td>0.296320</td>\n",
       "      <td>0.0</td>\n",
       "      <td>1.0</td>\n",
       "      <td>0.0</td>\n",
       "      <td>0.0</td>\n",
       "      <td>0.0</td>\n",
       "      <td>1.0</td>\n",
       "    </tr>\n",
       "    <tr>\n",
       "      <td>3</td>\n",
       "      <td>0.038678</td>\n",
       "      <td>1.0</td>\n",
       "      <td>0.382601</td>\n",
       "      <td>0.000000</td>\n",
       "      <td>0.391473</td>\n",
       "      <td>0.000000</td>\n",
       "      <td>1.000000</td>\n",
       "      <td>0.000000</td>\n",
       "      <td>1.000000</td>\n",
       "      <td>0.0</td>\n",
       "      <td>...</td>\n",
       "      <td>0.235336</td>\n",
       "      <td>0.000000</td>\n",
       "      <td>0.053097</td>\n",
       "      <td>0.306650</td>\n",
       "      <td>0.0</td>\n",
       "      <td>1.0</td>\n",
       "      <td>0.0</td>\n",
       "      <td>0.0</td>\n",
       "      <td>0.0</td>\n",
       "      <td>1.0</td>\n",
       "    </tr>\n",
       "    <tr>\n",
       "      <td>4</td>\n",
       "      <td>0.370781</td>\n",
       "      <td>1.0</td>\n",
       "      <td>0.097661</td>\n",
       "      <td>0.099971</td>\n",
       "      <td>0.000000</td>\n",
       "      <td>0.219307</td>\n",
       "      <td>0.166667</td>\n",
       "      <td>0.400000</td>\n",
       "      <td>0.000000</td>\n",
       "      <td>0.6</td>\n",
       "      <td>...</td>\n",
       "      <td>0.360424</td>\n",
       "      <td>0.183134</td>\n",
       "      <td>0.840708</td>\n",
       "      <td>0.212797</td>\n",
       "      <td>0.0</td>\n",
       "      <td>0.0</td>\n",
       "      <td>0.0</td>\n",
       "      <td>1.0</td>\n",
       "      <td>0.0</td>\n",
       "      <td>1.0</td>\n",
       "    </tr>\n",
       "  </tbody>\n",
       "</table>\n",
       "<p>5 rows × 29 columns</p>\n",
       "</div>"
      ],
      "text/plain": [
       "    BALANCE  BALANCE_FREQUENCY  PURCHASES  ONEOFF_PURCHASES  \\\n",
       "0  0.009081                0.5   0.091342          0.000000   \n",
       "1  0.187469                1.0   0.015319          0.015682   \n",
       "2  0.418474                1.0   0.417644          0.000000   \n",
       "3  0.038678                1.0   0.382601          0.000000   \n",
       "4  0.370781                1.0   0.097661          0.099971   \n",
       "\n",
       "   INSTALLMENTS_PURCHASES  CASH_ADVANCE  PURCHASES_FREQUENCY  \\\n",
       "0                0.093460      0.000000             0.166667   \n",
       "1                0.000000      0.000000             0.083333   \n",
       "2                0.427329      0.000000             1.000000   \n",
       "3                0.391473      0.000000             1.000000   \n",
       "4                0.000000      0.219307             0.166667   \n",
       "\n",
       "   ONEOFF_PURCHASES_FREQUENCY  PURCHASES_INSTALLMENTS_FREQUENCY  \\\n",
       "0                    0.000000                          0.083333   \n",
       "1                    0.199999                          0.000000   \n",
       "2                    0.000000                          1.000000   \n",
       "3                    0.000000                          1.000000   \n",
       "4                    0.400000                          0.000000   \n",
       "\n",
       "   CASH_ADVANCE_FREQUENCY  ...  AVG_AMT_PURCHASE_TRX  \\\n",
       "0                     0.0  ...              0.337102   \n",
       "1                     0.0  ...              0.113074   \n",
       "2                     0.0  ...              0.256890   \n",
       "3                     0.0  ...              0.235336   \n",
       "4                     0.6  ...              0.360424   \n",
       "\n",
       "   AVG_AMT_CASH_ADVANCE_TRX  CREDIT_UTLIZATION_RATIO  PAY_MIN_PAY_RATIO  BOTH  \\\n",
       "0                  0.000000                 0.035398           0.335822   0.0   \n",
       "1                  0.000000                 0.601770           0.643335   0.0   \n",
       "2                  0.000000                 0.699115           0.296320   0.0   \n",
       "3                  0.000000                 0.053097           0.306650   0.0   \n",
       "4                  0.183134                 0.840708           0.212797   0.0   \n",
       "\n",
       "   INSTALLMENTS  NONE  ONEOFF  paid_full_due  paid_min_due  \n",
       "0           1.0   0.0     0.0            0.0           1.0  \n",
       "1           0.0   0.0     1.0            0.0           1.0  \n",
       "2           1.0   0.0     0.0            0.0           1.0  \n",
       "3           1.0   0.0     0.0            0.0           1.0  \n",
       "4           0.0   0.0     1.0            0.0           1.0  \n",
       "\n",
       "[5 rows x 29 columns]"
      ]
     },
     "execution_count": 123,
     "metadata": {},
     "output_type": "execute_result"
    }
   ],
   "source": [
    "data3_minmax.head()"
   ]
  },
  {
   "cell_type": "markdown",
   "metadata": {},
   "source": [
    "### Feature Selection using  a Technique PCA which is a Derivative Of Factor Analysis"
   ]
  },
  {
   "cell_type": "code",
   "execution_count": 124,
   "metadata": {
    "scrolled": true
   },
   "outputs": [],
   "source": [
    "# Importing PCA\n",
    "from sklearn.decomposition import PCA"
   ]
  },
  {
   "cell_type": "code",
   "execution_count": 125,
   "metadata": {},
   "outputs": [],
   "source": [
    "#We have 29 features so our n_component will be 29.\n",
    "pc=PCA(n_components=29)\n",
    "cr_pca=pc.fit(data3_minmax)"
   ]
  },
  {
   "cell_type": "code",
   "execution_count": 126,
   "metadata": {},
   "outputs": [
    {
     "data": {
      "text/plain": [
       "0.9999999999999998"
      ]
     },
     "execution_count": 126,
     "metadata": {},
     "output_type": "execute_result"
    }
   ],
   "source": [
    "# Sum of variance explained by all components\n",
    "sum(cr_pca.explained_variance_ratio_)"
   ]
  },
  {
   "cell_type": "code",
   "execution_count": 127,
   "metadata": {},
   "outputs": [],
   "source": [
    "# calculating optimal no. of compnents\n",
    "cumm_var={}\n",
    "for n in range(2,29):\n",
    "    pc=PCA(n_components=n)\n",
    "    cr_pca=pc.fit(data3_minmax)\n",
    "    cumm_var[n]=sum(cr_pca.explained_variance_ratio_)"
   ]
  },
  {
   "cell_type": "code",
   "execution_count": 128,
   "metadata": {},
   "outputs": [
    {
     "data": {
      "text/plain": [
       "{2: 0.5176157354882318,\n",
       " 3: 0.6456257836672145,\n",
       " 4: 0.7248220377263954,\n",
       " 5: 0.7866797834299566,\n",
       " 6: 0.8192927924922857,\n",
       " 7: 0.8505474303257174,\n",
       " 8: 0.8765404300956708,\n",
       " 9: 0.8994749248152306,\n",
       " 10: 0.9177640330545935,\n",
       " 11: 0.9349378422243756,\n",
       " 12: 0.9490023488372251,\n",
       " 13: 0.9614628971968303,\n",
       " 14: 0.9728042920081588,\n",
       " 15: 0.9792058344910047,\n",
       " 16: 0.9846123470016804,\n",
       " 17: 0.9890474378588885,\n",
       " 18: 0.9923541337317634,\n",
       " 19: 0.9948404386557832,\n",
       " 20: 0.9967079732150197,\n",
       " 21: 0.998215542772545,\n",
       " 22: 0.9995382896716255,\n",
       " 23: 0.9999879537255736,\n",
       " 24: 0.9999999997205579,\n",
       " 25: 0.9999999998916111,\n",
       " 26: 0.9999999999999998,\n",
       " 27: 0.9999999999999998,\n",
       " 28: 0.9999999999999998}"
      ]
     },
     "execution_count": 128,
     "metadata": {},
     "output_type": "execute_result"
    }
   ],
   "source": [
    "cumm_var"
   ]
  },
  {
   "cell_type": "markdown",
   "metadata": {},
   "source": [
    "##### Creating a Skree Plot"
   ]
  },
  {
   "cell_type": "code",
   "execution_count": 129,
   "metadata": {},
   "outputs": [],
   "source": [
    "com = list(cumm_var.keys())\n",
    "variance = list(cumm_var.values())"
   ]
  },
  {
   "cell_type": "code",
   "execution_count": 130,
   "metadata": {},
   "outputs": [
    {
     "data": {
      "image/png": "[encoded data removed]",
      "text/plain": [
       "<Figure size 720x360 with 1 Axes>"
      ]
     },
     "metadata": {
      "needs_background": "light"
     },
     "output_type": "display_data"
    }
   ],
   "source": [
    "plt.figure(figsize=(10,5))\n",
    "plt.plot(com,variance, marker =\"o\")\n",
    "\n",
    "plt.xticks(range( 0, 30 ))\n",
    "\n",
    "plt.title('Scree Plot')\n",
    "plt.xlabel('Factors')\n",
    "plt.ylabel('Variance')\n",
    "\n",
    "plt.grid()\n",
    "plt.show()"
   ]
  },
  {
   "cell_type": "markdown",
   "metadata": {},
   "source": [
    "#### From the Above chart we can see after the 14th Component the Variance tends to Increase very slowly.\n",
    "So, 14 will be are optimal no. of component which explains around 97% variance"
   ]
  },
  {
   "cell_type": "code",
   "execution_count": 131,
   "metadata": {},
   "outputs": [],
   "source": [
    "# applying and reducing our data set with 14 component\n",
    "pc_final=PCA(n_components=14).fit(data3_minmax)\n",
    "reduced_cr=pc_final.fit_transform(data3_minmax)"
   ]
  },
  {
   "cell_type": "code",
   "execution_count": 132,
   "metadata": {},
   "outputs": [],
   "source": [
    "d_clust = pd.DataFrame(reduced_cr)"
   ]
  },
  {
   "cell_type": "code",
   "execution_count": 133,
   "metadata": {},
   "outputs": [
    {
     "name": "stdout",
     "output_type": "stream",
     "text": [
      "<class 'pandas.core.frame.DataFrame'>\n",
      "RangeIndex: 1359 entries, 0 to 1358\n",
      "Data columns (total 14 columns):\n",
      "0     1359 non-null float64\n",
      "1     1359 non-null float64\n",
      "2     1359 non-null float64\n",
      "3     1359 non-null float64\n",
      "4     1359 non-null float64\n",
      "5     1359 non-null float64\n",
      "6     1359 non-null float64\n",
      "7     1359 non-null float64\n",
      "8     1359 non-null float64\n",
      "9     1359 non-null float64\n",
      "10    1359 non-null float64\n",
      "11    1359 non-null float64\n",
      "12    1359 non-null float64\n",
      "13    1359 non-null float64\n",
      "dtypes: float64(14)\n",
      "memory usage: 148.8 KB\n"
     ]
    }
   ],
   "source": [
    "d_clust.info()"
   ]
  },
  {
   "cell_type": "markdown",
   "metadata": {},
   "source": [
    "### Applying Clustering algorithm"
   ]
  },
  {
   "cell_type": "markdown",
   "metadata": {},
   "source": [
    "##### Kmeans"
   ]
  },
  {
   "cell_type": "code",
   "execution_count": 134,
   "metadata": {},
   "outputs": [],
   "source": [
    "from sklearn.cluster import KMeans\n",
    "\n",
    "#Estimate optimum number of clusters\n",
    "cluster_range = range( 1, 20 )\n",
    "cluster_errors = []\n",
    "\n",
    "for num_clusters in cluster_range:\n",
    "    clusters = KMeans(num_clusters).fit(d_clust)\n",
    "    cluster_errors.append(clusters.inertia_)\n",
    "    \n",
    "#Create dataframe with cluster errors\n",
    "clusters_df = pd.DataFrame( { \"num_clusters\":cluster_range, \"cluster_errors\": cluster_errors } )"
   ]
  },
  {
   "cell_type": "code",
   "execution_count": 135,
   "metadata": {},
   "outputs": [
    {
     "data": {
      "image/png": "[encoded data removed]",
      "text/plain": [
       "<Figure size 720x360 with 1 Axes>"
      ]
     },
     "metadata": {
      "needs_background": "light"
     },
     "output_type": "display_data"
    }
   ],
   "source": [
    "plt.figure(figsize=(10,5))\n",
    "plt.plot(clusters_df.num_clusters, clusters_df.cluster_errors,marker = \"o\")#\", data=clusters_df)\n",
    "plt.xlim(1,20)\n",
    "plt.xticks(cluster_range)\n",
    "plt.title('Finding Optimal Cluster By Elbow Method')\n",
    "plt.xlabel('Inertia')\n",
    "plt.ylabel('No. Of Cluster')\n",
    "\n",
    "plt.show()"
   ]
  },
  {
   "cell_type": "code",
   "execution_count": 136,
   "metadata": {},
   "outputs": [],
   "source": [
    "Kmeans = KMeans(4).fit(d_clust)"
   ]
  },
  {
   "cell_type": "code",
   "execution_count": 137,
   "metadata": {},
   "outputs": [
    {
     "data": {
      "text/plain": [
       "1359"
      ]
     },
     "execution_count": 137,
     "metadata": {},
     "output_type": "execute_result"
    }
   ],
   "source": [
    "# Predicting labels usind our model \n",
    "clust_label = list(Kmeans.predict(d_clust))\n",
    "len(clust_label)"
   ]
  },
  {
   "cell_type": "code",
   "execution_count": 138,
   "metadata": {},
   "outputs": [
    {
     "data": {
      "text/plain": [
       "array([[4.09007490e+01, 8.18182000e-01, 9.54000000e+01, ...,\n",
       "        0.00000000e+00, 0.00000000e+00, 1.00000000e+00],\n",
       "       [8.17714335e+02, 1.00000000e+00, 1.60000000e+01, ...,\n",
       "        1.00000000e+00, 0.00000000e+00, 1.00000000e+00],\n",
       "       [1.82365274e+03, 1.00000000e+00, 4.36200000e+02, ...,\n",
       "        0.00000000e+00, 0.00000000e+00, 1.00000000e+00],\n",
       "       ...,\n",
       "       [3.90618780e+01, 1.00000000e+00, 2.97020000e+02, ...,\n",
       "        0.00000000e+00, 0.00000000e+00, 1.00000000e+00],\n",
       "       [1.14423990e+01, 6.36364000e-01, 8.20000000e+01, ...,\n",
       "        0.00000000e+00, 0.00000000e+00, 1.00000000e+00],\n",
       "       [8.70260090e+01, 1.00000000e+00, 6.05520000e+02, ...,\n",
       "        0.00000000e+00, 0.00000000e+00, 1.00000000e+00]])"
      ]
     },
     "execution_count": 138,
     "metadata": {},
     "output_type": "execute_result"
    }
   ],
   "source": [
    "data3"
   ]
  },
  {
   "cell_type": "code",
   "execution_count": 139,
   "metadata": {},
   "outputs": [
    {
     "data": {
      "text/html": [
       "<div>\n",
       "<style scoped>\n",
       "    .dataframe tbody tr th:only-of-type {\n",
       "        vertical-align: middle;\n",
       "    }\n",
       "\n",
       "    .dataframe tbody tr th {\n",
       "        vertical-align: top;\n",
       "    }\n",
       "\n",
       "    .dataframe thead th {\n",
       "        text-align: right;\n",
       "    }\n",
       "</style>\n",
       "<table border=\"1\" class=\"dataframe\">\n",
       "  <thead>\n",
       "    <tr style=\"text-align: right;\">\n",
       "      <th>label</th>\n",
       "      <th>BOTH</th>\n",
       "      <th>INSTALLMENTS</th>\n",
       "      <th>NONE</th>\n",
       "      <th>ONEOFF</th>\n",
       "    </tr>\n",
       "    <tr>\n",
       "      <th>cluster</th>\n",
       "      <th></th>\n",
       "      <th></th>\n",
       "      <th></th>\n",
       "      <th></th>\n",
       "    </tr>\n",
       "  </thead>\n",
       "  <tbody>\n",
       "    <tr>\n",
       "      <td>0</td>\n",
       "      <td>0</td>\n",
       "      <td>448</td>\n",
       "      <td>0</td>\n",
       "      <td>0</td>\n",
       "    </tr>\n",
       "    <tr>\n",
       "      <td>1</td>\n",
       "      <td>0</td>\n",
       "      <td>1</td>\n",
       "      <td>375</td>\n",
       "      <td>0</td>\n",
       "    </tr>\n",
       "    <tr>\n",
       "      <td>2</td>\n",
       "      <td>271</td>\n",
       "      <td>0</td>\n",
       "      <td>0</td>\n",
       "      <td>0</td>\n",
       "    </tr>\n",
       "    <tr>\n",
       "      <td>3</td>\n",
       "      <td>0</td>\n",
       "      <td>0</td>\n",
       "      <td>0</td>\n",
       "      <td>264</td>\n",
       "    </tr>\n",
       "  </tbody>\n",
       "</table>\n",
       "</div>"
      ],
      "text/plain": [
       "label    BOTH  INSTALLMENTS  NONE  ONEOFF\n",
       "cluster                                  \n",
       "0           0           448     0       0\n",
       "1           0             1   375       0\n",
       "2         271             0     0       0\n",
       "3           0             0     0     264"
      ]
     },
     "execution_count": 139,
     "metadata": {},
     "output_type": "execute_result"
    }
   ],
   "source": [
    "# converting it to form a data frame\n",
    "conf = pd.DataFrame({\"cluster\":clust_label,\"label\":label})\n",
    "\n",
    "# creating a Two way table to evaluate our cluuster\n",
    "pd.crosstab(conf.cluster,conf.label)"
   ]
  },
  {
   "cell_type": "markdown",
   "metadata": {},
   "source": [
    "##### Output\n",
    "* Almost two third of the records were outliers and were removed during the process.\n",
    "* It was necessary because Kmeans is affected by outliers and extreem values\n",
    "* 4 is the optimum no. of cluster"
   ]
  },
  {
   "cell_type": "markdown",
   "metadata": {},
   "source": [
    "##### Kmedoids\n",
    "* Since kmeans removing outliers was a neccesity but it came with a cost of loss of almost half of the information in order to prevent the loss of data we need to use a method that is robust to outliers and extreem values and its called k medoids well medoids has almost same math but instead of estimating centroids using mean it takes the closest observation and use it to define the cluster which is called as a medoid."
   ]
  },
  {
   "cell_type": "code",
   "execution_count": 162,
   "metadata": {
    "scrolled": true
   },
   "outputs": [],
   "source": [
    "data4 = data2.copy()\n"
   ]
  },
  {
   "cell_type": "code",
   "execution_count": 163,
   "metadata": {
    "scrolled": true
   },
   "outputs": [
    {
     "data": {
      "text/plain": [
       "['CUST_ID', 'PURCHASE_TYPE', 'PAYMENT_INFO']"
      ]
     },
     "execution_count": 163,
     "metadata": {},
     "output_type": "execute_result"
    }
   ],
   "source": [
    "col = list(data4.columns)\n",
    "num = []\n",
    "obj = []\n",
    "for i in col:\n",
    "    if isinstance(data4[i].iloc[1] , float) or isinstance(data4[i].iloc[1] , int) :\n",
    "        num.append(i)\n",
    "    else :\n",
    "        obj.append(i)            \n",
    "obj"
   ]
  },
  {
   "cell_type": "code",
   "execution_count": 164,
   "metadata": {
    "scrolled": true
   },
   "outputs": [],
   "source": [
    "PURCHASE_TYPE=pd.get_dummies(data4[obj[1]])\n",
    "PAYMENT_INFO=pd.get_dummies(data4[obj[2]])\n",
    "data4=pd.concat([data4[num],PURCHASE_TYPE,PAYMENT_INFO],axis=1)"
   ]
  },
  {
   "cell_type": "code",
   "execution_count": 165,
   "metadata": {},
   "outputs": [
    {
     "data": {
      "text/html": [
       "<div>\n",
       "<style scoped>\n",
       "    .dataframe tbody tr th:only-of-type {\n",
       "        vertical-align: middle;\n",
       "    }\n",
       "\n",
       "    .dataframe tbody tr th {\n",
       "        vertical-align: top;\n",
       "    }\n",
       "\n",
       "    .dataframe thead th {\n",
       "        text-align: right;\n",
       "    }\n",
       "</style>\n",
       "<table border=\"1\" class=\"dataframe\">\n",
       "  <thead>\n",
       "    <tr style=\"text-align: right;\">\n",
       "      <th></th>\n",
       "      <th>BALANCE</th>\n",
       "      <th>BALANCE_FREQUENCY</th>\n",
       "      <th>PURCHASES</th>\n",
       "      <th>ONEOFF_PURCHASES</th>\n",
       "      <th>INSTALLMENTS_PURCHASES</th>\n",
       "      <th>CASH_ADVANCE</th>\n",
       "      <th>PURCHASES_FREQUENCY</th>\n",
       "      <th>ONEOFF_PURCHASES_FREQUENCY</th>\n",
       "      <th>PURCHASES_INSTALLMENTS_FREQUENCY</th>\n",
       "      <th>CASH_ADVANCE_FREQUENCY</th>\n",
       "      <th>...</th>\n",
       "      <th>AVG_AMT_PURCHASE_TRX</th>\n",
       "      <th>AVG_AMT_CASH_ADVANCE_TRX</th>\n",
       "      <th>CREDIT_UTLIZATION_RATIO</th>\n",
       "      <th>PAY_MIN_PAY_RATIO</th>\n",
       "      <th>BOTH</th>\n",
       "      <th>INSTALLMENTS</th>\n",
       "      <th>NONE</th>\n",
       "      <th>ONEOFF</th>\n",
       "      <th>paid_full_due</th>\n",
       "      <th>paid_min_due</th>\n",
       "    </tr>\n",
       "  </thead>\n",
       "  <tbody>\n",
       "    <tr>\n",
       "      <td>0</td>\n",
       "      <td>40.900749</td>\n",
       "      <td>0.818182</td>\n",
       "      <td>95.4</td>\n",
       "      <td>0.0</td>\n",
       "      <td>95.4</td>\n",
       "      <td>0.000000</td>\n",
       "      <td>0.166667</td>\n",
       "      <td>0.0</td>\n",
       "      <td>0.083333</td>\n",
       "      <td>0.00</td>\n",
       "      <td>...</td>\n",
       "      <td>47.7</td>\n",
       "      <td>0.00</td>\n",
       "      <td>4.0</td>\n",
       "      <td>1.446508</td>\n",
       "      <td>0</td>\n",
       "      <td>1</td>\n",
       "      <td>0</td>\n",
       "      <td>0</td>\n",
       "      <td>0</td>\n",
       "      <td>1</td>\n",
       "    </tr>\n",
       "    <tr>\n",
       "      <td>1</td>\n",
       "      <td>3202.467416</td>\n",
       "      <td>0.909091</td>\n",
       "      <td>0.0</td>\n",
       "      <td>0.0</td>\n",
       "      <td>0.0</td>\n",
       "      <td>6442.945483</td>\n",
       "      <td>0.000000</td>\n",
       "      <td>0.0</td>\n",
       "      <td>0.000000</td>\n",
       "      <td>0.25</td>\n",
       "      <td>...</td>\n",
       "      <td>0.0</td>\n",
       "      <td>1610.74</td>\n",
       "      <td>46.0</td>\n",
       "      <td>3.826241</td>\n",
       "      <td>0</td>\n",
       "      <td>0</td>\n",
       "      <td>1</td>\n",
       "      <td>0</td>\n",
       "      <td>0</td>\n",
       "      <td>1</td>\n",
       "    </tr>\n",
       "  </tbody>\n",
       "</table>\n",
       "<p>2 rows × 29 columns</p>\n",
       "</div>"
      ],
      "text/plain": [
       "       BALANCE  BALANCE_FREQUENCY  PURCHASES  ONEOFF_PURCHASES  \\\n",
       "0    40.900749           0.818182       95.4               0.0   \n",
       "1  3202.467416           0.909091        0.0               0.0   \n",
       "\n",
       "   INSTALLMENTS_PURCHASES  CASH_ADVANCE  PURCHASES_FREQUENCY  \\\n",
       "0                    95.4      0.000000             0.166667   \n",
       "1                     0.0   6442.945483             0.000000   \n",
       "\n",
       "   ONEOFF_PURCHASES_FREQUENCY  PURCHASES_INSTALLMENTS_FREQUENCY  \\\n",
       "0                         0.0                          0.083333   \n",
       "1                         0.0                          0.000000   \n",
       "\n",
       "   CASH_ADVANCE_FREQUENCY  ...  AVG_AMT_PURCHASE_TRX  \\\n",
       "0                    0.00  ...                  47.7   \n",
       "1                    0.25  ...                   0.0   \n",
       "\n",
       "   AVG_AMT_CASH_ADVANCE_TRX  CREDIT_UTLIZATION_RATIO  PAY_MIN_PAY_RATIO  BOTH  \\\n",
       "0                      0.00                      4.0           1.446508     0   \n",
       "1                   1610.74                     46.0           3.826241     0   \n",
       "\n",
       "   INSTALLMENTS  NONE  ONEOFF  paid_full_due  paid_min_due  \n",
       "0             1     0       0              0             1  \n",
       "1             0     1       0              0             1  \n",
       "\n",
       "[2 rows x 29 columns]"
      ]
     },
     "execution_count": 165,
     "metadata": {},
     "output_type": "execute_result"
    }
   ],
   "source": [
    "data4.head(2)"
   ]
  },
  {
   "cell_type": "markdown",
   "metadata": {},
   "source": [
    "##### Applying jarque_bera test on all the numerical variables of data frame\n",
    "at alpha value of 0.05\n",
    "* Null hypothesis: data comes from a normal distribution.\n",
    "* Alternate hypothesis: data doesnot comes from a normal distribution."
   ]
  },
  {
   "cell_type": "code",
   "execution_count": 166,
   "metadata": {
    "scrolled": true
   },
   "outputs": [
    {
     "name": "stdout",
     "output_type": "stream",
     "text": [
      "BALANCE\n",
      "30478.944630569007 0.0\n",
      "Sample does not look normal (reject H0)\n",
      "BALANCE_FREQUENCY\n",
      "9664.82603475827 0.0\n",
      "Sample does not look normal (reject H0)\n",
      "PURCHASES\n",
      "4720632.574071898 0.0\n",
      "Sample does not look normal (reject H0)\n",
      "ONEOFF_PURCHASES\n",
      "10192077.724852117 0.0\n",
      "Sample does not look normal (reject H0)\n",
      "INSTALLMENTS_PURCHASES\n",
      "3553618.4819691475 0.0\n",
      "Sample does not look normal (reject H0)\n",
      "CASH_ADVANCE\n",
      "1082164.4779776093 0.0\n",
      "Sample does not look normal (reject H0)\n",
      "PURCHASES_FREQUENCY\n",
      "1006.4210400779638 0.0\n",
      "Sample does not look normal (reject H0)\n",
      "ONEOFF_PURCHASES_FREQUENCY\n",
      "4018.5821501628247 0.0\n",
      "Sample does not look normal (reject H0)\n",
      "PURCHASES_INSTALLMENTS_FREQUENCY\n",
      "1116.0118226638558 0.0\n",
      "Sample does not look normal (reject H0)\n",
      "CASH_ADVANCE_FREQUENCY\n",
      "9127.305455547898 0.0\n",
      "Sample does not look normal (reject H0)\n",
      "CASH_ADVANCE_TRX\n",
      "1464405.654579568 0.0\n",
      "Sample does not look normal (reject H0)\n",
      "PURCHASES_TRX\n",
      "482891.40977187443 0.0\n",
      "Sample does not look normal (reject H0)\n",
      "CREDIT_LIMIT\n",
      "6454.078736992205 0.0\n",
      "Sample does not look normal (reject H0)\n",
      "PAYMENTS\n",
      "1169452.8319843537 0.0\n",
      "Sample does not look normal (reject H0)\n",
      "MINIMUM_PAYMENTS\n",
      "32827902.247860007 0.0\n",
      "Sample does not look normal (reject H0)\n",
      "PRC_FULL_PAYMENT\n",
      "7831.181781141491 0.0\n",
      "Sample does not look normal (reject H0)\n",
      "TENURE\n",
      "34967.521965476495 0.0\n",
      "Sample does not look normal (reject H0)\n",
      "AVG_MONTH_PURCHASE\n",
      "4424320.317630366 0.0\n",
      "Sample does not look normal (reject H0)\n",
      "AVG_MONTH_CASH_ADVANCE\n",
      "763561.0391681952 0.0\n",
      "Sample does not look normal (reject H0)\n",
      "AVG_AMT_PURCHASE_TRX\n",
      "nan nan\n",
      "Sample does not look normal (reject H0)\n",
      "AVG_AMT_CASH_ADVANCE_TRX\n",
      "9153645.157456545 0.0\n",
      "Sample does not look normal (reject H0)\n",
      "CREDIT_UTLIZATION_RATIO\n",
      "29182077.877599854 0.0\n",
      "Sample does not look normal (reject H0)\n",
      "PAY_MIN_PAY_RATIO\n",
      "1613100401.5129905 0.0\n",
      "Sample does not look normal (reject H0)\n"
     ]
    },
    {
     "name": "stderr",
     "output_type": "stream",
     "text": [
      "/home/mayank/anaconda3/lib/python3.7/site-packages/scipy/stats/stats.py:1599: RuntimeWarning: invalid value encountered in subtract\n",
      "  diffx = x - mu\n"
     ]
    }
   ],
   "source": [
    "from scipy import stats\n",
    "alpha = 0.05\n",
    "col = list(data4.columns)\n",
    "f=1\n",
    "for i in col:\n",
    "     if isinstance(data4[i].iloc[1] , float) or isinstance(data4[i].iloc[1] , int) :\n",
    "        print(i)\n",
    "        stat,p = stats.jarque_bera(data4[i])\n",
    "        print(stat, p)\n",
    "        if p > alpha:\n",
    "            print('Sample looks normal (fail to reject H0)')\n",
    "        else:\n",
    "            print('Sample does not look normal (reject H0)') "
   ]
  },
  {
   "cell_type": "markdown",
   "metadata": {},
   "source": [
    "#### Again\n",
    "Since p-value is less than our alpha which shows strong evidence against our Null hypothesis \n",
    "* we will Reject the null hypothesis stating that the following columns the dataframe are not normal"
   ]
  },
  {
   "cell_type": "markdown",
   "metadata": {},
   "source": [
    "#### Since are data is not normal we will scale the variable using min max normalization technique"
   ]
  },
  {
   "cell_type": "code",
   "execution_count": 167,
   "metadata": {},
   "outputs": [],
   "source": [
    "#importing minmax scaler\n",
    "from sklearn import preprocessing\n",
    "scaler = preprocessing.MinMaxScaler(feature_range=(0, 1))\n",
    "#scaler = preprocessing.StandardScaler()"
   ]
  },
  {
   "cell_type": "code",
   "execution_count": 168,
   "metadata": {},
   "outputs": [
    {
     "name": "stderr",
     "output_type": "stream",
     "text": [
      "/home/mayank/anaconda3/lib/python3.7/site-packages/ipykernel_launcher.py:2: FutureWarning: Method .as_matrix will be removed in a future version. Use .values instead.\n",
      "  \n"
     ]
    }
   ],
   "source": [
    "# converting our data frame into matrix\n",
    "data4 = data4.as_matrix().astype(np.float)\n",
    "data4 =np.nan_to_num(data4)"
   ]
  },
  {
   "cell_type": "code",
   "execution_count": 169,
   "metadata": {},
   "outputs": [
    {
     "name": "stderr",
     "output_type": "stream",
     "text": [
      "/home/mayank/anaconda3/lib/python3.7/site-packages/numpy/core/fromnumeric.py:90: RuntimeWarning: overflow encountered in reduce\n",
      "  return ufunc.reduce(obj, axis, dtype, out, **passkwargs)\n",
      "/home/mayank/anaconda3/lib/python3.7/site-packages/numpy/core/fromnumeric.py:90: RuntimeWarning: overflow encountered in reduce\n",
      "  return ufunc.reduce(obj, axis, dtype, out, **passkwargs)\n"
     ]
    }
   ],
   "source": [
    "# applying scaler on our data and coverting i into a data frame\n",
    "data4_minmax = pd.DataFrame((scaler.fit_transform(data4)))\n"
   ]
  },
  {
   "cell_type": "code",
   "execution_count": 170,
   "metadata": {},
   "outputs": [],
   "source": [
    "# renaming columns\n",
    "data4_minmax.columns = col"
   ]
  },
  {
   "cell_type": "code",
   "execution_count": 171,
   "metadata": {
    "scrolled": true
   },
   "outputs": [
    {
     "data": {
      "text/html": [
       "<div>\n",
       "<style scoped>\n",
       "    .dataframe tbody tr th:only-of-type {\n",
       "        vertical-align: middle;\n",
       "    }\n",
       "\n",
       "    .dataframe tbody tr th {\n",
       "        vertical-align: top;\n",
       "    }\n",
       "\n",
       "    .dataframe thead th {\n",
       "        text-align: right;\n",
       "    }\n",
       "</style>\n",
       "<table border=\"1\" class=\"dataframe\">\n",
       "  <thead>\n",
       "    <tr style=\"text-align: right;\">\n",
       "      <th></th>\n",
       "      <th>BALANCE</th>\n",
       "      <th>BALANCE_FREQUENCY</th>\n",
       "      <th>PURCHASES</th>\n",
       "      <th>ONEOFF_PURCHASES</th>\n",
       "      <th>INSTALLMENTS_PURCHASES</th>\n",
       "      <th>CASH_ADVANCE</th>\n",
       "      <th>PURCHASES_FREQUENCY</th>\n",
       "      <th>ONEOFF_PURCHASES_FREQUENCY</th>\n",
       "      <th>PURCHASES_INSTALLMENTS_FREQUENCY</th>\n",
       "      <th>CASH_ADVANCE_FREQUENCY</th>\n",
       "      <th>...</th>\n",
       "      <th>AVG_AMT_PURCHASE_TRX</th>\n",
       "      <th>AVG_AMT_CASH_ADVANCE_TRX</th>\n",
       "      <th>CREDIT_UTLIZATION_RATIO</th>\n",
       "      <th>PAY_MIN_PAY_RATIO</th>\n",
       "      <th>BOTH</th>\n",
       "      <th>INSTALLMENTS</th>\n",
       "      <th>NONE</th>\n",
       "      <th>ONEOFF</th>\n",
       "      <th>paid_full_due</th>\n",
       "      <th>paid_min_due</th>\n",
       "    </tr>\n",
       "  </thead>\n",
       "  <tbody>\n",
       "    <tr>\n",
       "      <td>0</td>\n",
       "      <td>0.002148</td>\n",
       "      <td>0.818182</td>\n",
       "      <td>0.001945</td>\n",
       "      <td>0.000000</td>\n",
       "      <td>0.00424</td>\n",
       "      <td>0.000000</td>\n",
       "      <td>0.166667</td>\n",
       "      <td>0.000000</td>\n",
       "      <td>0.083333</td>\n",
       "      <td>0.000000</td>\n",
       "      <td>...</td>\n",
       "      <td>2.653401e-307</td>\n",
       "      <td>0.000000</td>\n",
       "      <td>0.002514</td>\n",
       "      <td>0.000211</td>\n",
       "      <td>0.0</td>\n",
       "      <td>1.0</td>\n",
       "      <td>0.0</td>\n",
       "      <td>0.0</td>\n",
       "      <td>0.0</td>\n",
       "      <td>1.0</td>\n",
       "    </tr>\n",
       "    <tr>\n",
       "      <td>1</td>\n",
       "      <td>0.168169</td>\n",
       "      <td>0.909091</td>\n",
       "      <td>0.000000</td>\n",
       "      <td>0.000000</td>\n",
       "      <td>0.00000</td>\n",
       "      <td>0.136685</td>\n",
       "      <td>0.000000</td>\n",
       "      <td>0.000000</td>\n",
       "      <td>0.000000</td>\n",
       "      <td>0.166667</td>\n",
       "      <td>...</td>\n",
       "      <td>0.000000e+00</td>\n",
       "      <td>0.108566</td>\n",
       "      <td>0.028913</td>\n",
       "      <td>0.000559</td>\n",
       "      <td>0.0</td>\n",
       "      <td>0.0</td>\n",
       "      <td>1.0</td>\n",
       "      <td>0.0</td>\n",
       "      <td>0.0</td>\n",
       "      <td>1.0</td>\n",
       "    </tr>\n",
       "    <tr>\n",
       "      <td>2</td>\n",
       "      <td>0.131026</td>\n",
       "      <td>1.000000</td>\n",
       "      <td>0.015766</td>\n",
       "      <td>0.018968</td>\n",
       "      <td>0.00000</td>\n",
       "      <td>0.000000</td>\n",
       "      <td>1.000000</td>\n",
       "      <td>1.000000</td>\n",
       "      <td>0.000000</td>\n",
       "      <td>0.000000</td>\n",
       "      <td>...</td>\n",
       "      <td>3.584038e-307</td>\n",
       "      <td>0.000000</td>\n",
       "      <td>0.020742</td>\n",
       "      <td>0.000145</td>\n",
       "      <td>0.0</td>\n",
       "      <td>0.0</td>\n",
       "      <td>0.0</td>\n",
       "      <td>1.0</td>\n",
       "      <td>0.0</td>\n",
       "      <td>1.0</td>\n",
       "    </tr>\n",
       "    <tr>\n",
       "      <td>3</td>\n",
       "      <td>0.087521</td>\n",
       "      <td>0.636364</td>\n",
       "      <td>0.030567</td>\n",
       "      <td>0.036775</td>\n",
       "      <td>0.00000</td>\n",
       "      <td>0.004366</td>\n",
       "      <td>0.083333</td>\n",
       "      <td>0.083333</td>\n",
       "      <td>0.000000</td>\n",
       "      <td>0.055555</td>\n",
       "      <td>...</td>\n",
       "      <td>8.338464e-306</td>\n",
       "      <td>0.013871</td>\n",
       "      <td>0.013828</td>\n",
       "      <td>0.000000</td>\n",
       "      <td>0.0</td>\n",
       "      <td>0.0</td>\n",
       "      <td>0.0</td>\n",
       "      <td>1.0</td>\n",
       "      <td>1.0</td>\n",
       "      <td>0.0</td>\n",
       "    </tr>\n",
       "    <tr>\n",
       "      <td>4</td>\n",
       "      <td>0.042940</td>\n",
       "      <td>1.000000</td>\n",
       "      <td>0.000326</td>\n",
       "      <td>0.000393</td>\n",
       "      <td>0.00000</td>\n",
       "      <td>0.000000</td>\n",
       "      <td>0.083333</td>\n",
       "      <td>0.083333</td>\n",
       "      <td>0.000000</td>\n",
       "      <td>0.000000</td>\n",
       "      <td>...</td>\n",
       "      <td>8.900295e-308</td>\n",
       "      <td>0.000000</td>\n",
       "      <td>0.042740</td>\n",
       "      <td>0.000405</td>\n",
       "      <td>0.0</td>\n",
       "      <td>0.0</td>\n",
       "      <td>0.0</td>\n",
       "      <td>1.0</td>\n",
       "      <td>0.0</td>\n",
       "      <td>1.0</td>\n",
       "    </tr>\n",
       "  </tbody>\n",
       "</table>\n",
       "<p>5 rows × 29 columns</p>\n",
       "</div>"
      ],
      "text/plain": [
       "    BALANCE  BALANCE_FREQUENCY  PURCHASES  ONEOFF_PURCHASES  \\\n",
       "0  0.002148           0.818182   0.001945          0.000000   \n",
       "1  0.168169           0.909091   0.000000          0.000000   \n",
       "2  0.131026           1.000000   0.015766          0.018968   \n",
       "3  0.087521           0.636364   0.030567          0.036775   \n",
       "4  0.042940           1.000000   0.000326          0.000393   \n",
       "\n",
       "   INSTALLMENTS_PURCHASES  CASH_ADVANCE  PURCHASES_FREQUENCY  \\\n",
       "0                 0.00424      0.000000             0.166667   \n",
       "1                 0.00000      0.136685             0.000000   \n",
       "2                 0.00000      0.000000             1.000000   \n",
       "3                 0.00000      0.004366             0.083333   \n",
       "4                 0.00000      0.000000             0.083333   \n",
       "\n",
       "   ONEOFF_PURCHASES_FREQUENCY  PURCHASES_INSTALLMENTS_FREQUENCY  \\\n",
       "0                    0.000000                          0.083333   \n",
       "1                    0.000000                          0.000000   \n",
       "2                    1.000000                          0.000000   \n",
       "3                    0.083333                          0.000000   \n",
       "4                    0.083333                          0.000000   \n",
       "\n",
       "   CASH_ADVANCE_FREQUENCY  ...  AVG_AMT_PURCHASE_TRX  \\\n",
       "0                0.000000  ...         2.653401e-307   \n",
       "1                0.166667  ...          0.000000e+00   \n",
       "2                0.000000  ...         3.584038e-307   \n",
       "3                0.055555  ...         8.338464e-306   \n",
       "4                0.000000  ...         8.900295e-308   \n",
       "\n",
       "   AVG_AMT_CASH_ADVANCE_TRX  CREDIT_UTLIZATION_RATIO  PAY_MIN_PAY_RATIO  BOTH  \\\n",
       "0                  0.000000                 0.002514           0.000211   0.0   \n",
       "1                  0.108566                 0.028913           0.000559   0.0   \n",
       "2                  0.000000                 0.020742           0.000145   0.0   \n",
       "3                  0.013871                 0.013828           0.000000   0.0   \n",
       "4                  0.000000                 0.042740           0.000405   0.0   \n",
       "\n",
       "   INSTALLMENTS  NONE  ONEOFF  paid_full_due  paid_min_due  \n",
       "0           1.0   0.0     0.0            0.0           1.0  \n",
       "1           0.0   1.0     0.0            0.0           1.0  \n",
       "2           0.0   0.0     1.0            0.0           1.0  \n",
       "3           0.0   0.0     1.0            1.0           0.0  \n",
       "4           0.0   0.0     1.0            0.0           1.0  \n",
       "\n",
       "[5 rows x 29 columns]"
      ]
     },
     "execution_count": 171,
     "metadata": {},
     "output_type": "execute_result"
    }
   ],
   "source": [
    "data4_minmax.head()"
   ]
  },
  {
   "cell_type": "markdown",
   "metadata": {},
   "source": [
    "### Feature Selection using  a Technique PCA which is a Derivative Of Factor Analysis"
   ]
  },
  {
   "cell_type": "code",
   "execution_count": 172,
   "metadata": {
    "scrolled": true
   },
   "outputs": [],
   "source": [
    "# Importing PCA\n",
    "from sklearn.decomposition import PCA"
   ]
  },
  {
   "cell_type": "code",
   "execution_count": 173,
   "metadata": {},
   "outputs": [],
   "source": [
    "#We have 29 features so our n_component will be 29.\n",
    "pc=PCA(n_components=29)\n",
    "cr_pca=pc.fit(data4_minmax)"
   ]
  },
  {
   "cell_type": "code",
   "execution_count": 174,
   "metadata": {},
   "outputs": [
    {
     "data": {
      "text/plain": [
       "1.0"
      ]
     },
     "execution_count": 174,
     "metadata": {},
     "output_type": "execute_result"
    }
   ],
   "source": [
    "# Sum of variance explained by all components\n",
    "sum(cr_pca.explained_variance_ratio_)"
   ]
  },
  {
   "cell_type": "code",
   "execution_count": 175,
   "metadata": {},
   "outputs": [],
   "source": [
    "# calculating optimal no. of compnents\n",
    "cumm_var={}\n",
    "for n in range(2,29):\n",
    "    pc=PCA(n_components=n)\n",
    "    cr_pca=pc.fit(data4_minmax)\n",
    "    cumm_var[n]=sum(cr_pca.explained_variance_ratio_)"
   ]
  },
  {
   "cell_type": "code",
   "execution_count": 176,
   "metadata": {},
   "outputs": [
    {
     "data": {
      "text/plain": [
       "{2: 0.5734467255492774,\n",
       " 3: 0.733124626341424,\n",
       " 4: 0.7899367724815167,\n",
       " 5: 0.8422064036762396,\n",
       " 6: 0.8796183071991782,\n",
       " 7: 0.9121895749115927,\n",
       " 8: 0.9367276529240632,\n",
       " 9: 0.9584091624662088,\n",
       " 10: 0.9744986343698875,\n",
       " 11: 0.982884255328545,\n",
       " 12: 0.9879636579089802,\n",
       " 13: 0.9910344650450933,\n",
       " 14: 0.9937853654011337,\n",
       " 15: 0.9956836275968762,\n",
       " 16: 0.9966904702302166,\n",
       " 17: 0.9974344653274336,\n",
       " 18: 0.997999813008012,\n",
       " 19: 0.9985373442302076,\n",
       " 20: 0.9990152117060345,\n",
       " 21: 0.999374736607148,\n",
       " 22: 0.9995999668008381,\n",
       " 23: 0.9998001956631161,\n",
       " 24: 0.9999703399971946,\n",
       " 25: 0.9999943459099183,\n",
       " 26: 0.9999999858966716,\n",
       " 27: 1.0,\n",
       " 28: 1.0}"
      ]
     },
     "execution_count": 176,
     "metadata": {},
     "output_type": "execute_result"
    }
   ],
   "source": [
    "cumm_var"
   ]
  },
  {
   "cell_type": "markdown",
   "metadata": {},
   "source": [
    "##### Creating a Skree Plot"
   ]
  },
  {
   "cell_type": "code",
   "execution_count": 177,
   "metadata": {},
   "outputs": [],
   "source": [
    "com = list(cumm_var.keys())\n",
    "variance = list(cumm_var.values())"
   ]
  },
  {
   "cell_type": "code",
   "execution_count": 178,
   "metadata": {},
   "outputs": [
    {
     "data": {
      "image/png": "[encoded data removed]",
      "text/plain": [
       "<Figure size 720x360 with 1 Axes>"
      ]
     },
     "metadata": {
      "needs_background": "light"
     },
     "output_type": "display_data"
    }
   ],
   "source": [
    "plt.figure(figsize=(10,5))\n",
    "plt.plot(com,variance, marker =\"o\")\n",
    "\n",
    "plt.xticks(range( 0, 30 ))\n",
    "\n",
    "plt.title('Scree Plot')\n",
    "plt.xlabel('Factors')\n",
    "plt.ylabel('Variance')\n",
    "\n",
    "plt.grid()\n",
    "plt.show()"
   ]
  },
  {
   "cell_type": "markdown",
   "metadata": {},
   "source": [
    "#### From the Above chart we can see after the 10th Component the Variance tends to Increase very slowly.\n",
    "So, 10 will be are optimal no. of component which explains around 97% variance"
   ]
  },
  {
   "cell_type": "code",
   "execution_count": 179,
   "metadata": {},
   "outputs": [],
   "source": [
    "# applying and reducing our data set with 10 component\n",
    "pc_final=PCA(n_components=14).fit(data4_minmax)\n",
    "reduced_cr=pc_final.fit_transform(data4_minmax)"
   ]
  },
  {
   "cell_type": "code",
   "execution_count": 182,
   "metadata": {},
   "outputs": [],
   "source": [
    "d_clust1 = pd.DataFrame(reduced_cr)"
   ]
  },
  {
   "cell_type": "code",
   "execution_count": 183,
   "metadata": {},
   "outputs": [],
   "source": [
    "from sklearn_extra.cluster import KMedoids\n",
    "#Estimate optimum number of clusters\n",
    "cluster_range = range( 1, 20 )\n",
    "cluster_errors = []\n",
    "\n",
    "for num_clusters in cluster_range:\n",
    "    clusters = KMedoids(num_clusters).fit(d_clust1)\n",
    "    cluster_errors.append(clusters.inertia_)\n",
    "    \n",
    "#Create dataframe with cluster errors\n",
    "clusters_df = pd.DataFrame( { \"num_clusters\":cluster_range, \"cluster_errors\": cluster_errors } )"
   ]
  },
  {
   "cell_type": "code",
   "execution_count": 184,
   "metadata": {},
   "outputs": [
    {
     "data": {
      "image/png": "[encoded data removed]",
      "text/plain": [
       "<Figure size 720x360 with 1 Axes>"
      ]
     },
     "metadata": {
      "needs_background": "light"
     },
     "output_type": "display_data"
    }
   ],
   "source": [
    "plt.figure(figsize=(10,5))\n",
    "plt.plot(clusters_df.num_clusters, clusters_df.cluster_errors,marker = \"o\")#\", data=clusters_df)\n",
    "plt.xlim(1,20)\n",
    "plt.xticks(cluster_range)\n",
    "plt.title('Finding Optimal Cluster By Elbow Method')\n",
    "plt.xlabel('Inertia')\n",
    "plt.ylabel('No. Of Cluster')\n",
    "plt.show()"
   ]
  },
  {
   "cell_type": "markdown",
   "metadata": {},
   "source": [
    "#### The optimum no. of clusters using K-medoids is 4"
   ]
  },
  {
   "cell_type": "markdown",
   "metadata": {},
   "source": [
    "now lets construct our model Using Kmedoids and then evaluate  it using our earlier created KPI PURCHASE_TYPE"
   ]
  },
  {
   "cell_type": "code",
   "execution_count": 185,
   "metadata": {},
   "outputs": [],
   "source": [
    "#Creating cluster using Kmedoids\n",
    "clust_final = KMeans(4).fit(d_clust1)"
   ]
  },
  {
   "cell_type": "code",
   "execution_count": 186,
   "metadata": {},
   "outputs": [
    {
     "data": {
      "text/plain": [
       "8950"
      ]
     },
     "execution_count": 186,
     "metadata": {},
     "output_type": "execute_result"
    }
   ],
   "source": [
    "# Predicting labels usind our model \n",
    "clust_label = list(clust_final.predict(d_clust1))\n",
    "len(clust_label)"
   ]
  },
  {
   "cell_type": "code",
   "execution_count": 187,
   "metadata": {},
   "outputs": [],
   "source": [
    "# creating the list of our purchase type\n",
    "label = list(data2.PURCHASE_TYPE )"
   ]
  },
  {
   "cell_type": "code",
   "execution_count": 188,
   "metadata": {},
   "outputs": [],
   "source": [
    "# converting it to form a data frame\n",
    "conf = pd.DataFrame({\"cluster\":clust_label,\"label\":label})"
   ]
  },
  {
   "cell_type": "code",
   "execution_count": 189,
   "metadata": {},
   "outputs": [
    {
     "data": {
      "text/html": [
       "<div>\n",
       "<style scoped>\n",
       "    .dataframe tbody tr th:only-of-type {\n",
       "        vertical-align: middle;\n",
       "    }\n",
       "\n",
       "    .dataframe tbody tr th {\n",
       "        vertical-align: top;\n",
       "    }\n",
       "\n",
       "    .dataframe thead th {\n",
       "        text-align: right;\n",
       "    }\n",
       "</style>\n",
       "<table border=\"1\" class=\"dataframe\">\n",
       "  <thead>\n",
       "    <tr style=\"text-align: right;\">\n",
       "      <th>label</th>\n",
       "      <th>BOTH</th>\n",
       "      <th>INSTALLMENTS</th>\n",
       "      <th>NONE</th>\n",
       "      <th>ONEOFF</th>\n",
       "    </tr>\n",
       "    <tr>\n",
       "      <th>cluster</th>\n",
       "      <th></th>\n",
       "      <th></th>\n",
       "      <th></th>\n",
       "      <th></th>\n",
       "    </tr>\n",
       "  </thead>\n",
       "  <tbody>\n",
       "    <tr>\n",
       "      <td>0</td>\n",
       "      <td>0</td>\n",
       "      <td>0</td>\n",
       "      <td>2042</td>\n",
       "      <td>0</td>\n",
       "    </tr>\n",
       "    <tr>\n",
       "      <td>1</td>\n",
       "      <td>2774</td>\n",
       "      <td>0</td>\n",
       "      <td>0</td>\n",
       "      <td>0</td>\n",
       "    </tr>\n",
       "    <tr>\n",
       "      <td>2</td>\n",
       "      <td>0</td>\n",
       "      <td>2260</td>\n",
       "      <td>0</td>\n",
       "      <td>0</td>\n",
       "    </tr>\n",
       "    <tr>\n",
       "      <td>3</td>\n",
       "      <td>0</td>\n",
       "      <td>0</td>\n",
       "      <td>0</td>\n",
       "      <td>1874</td>\n",
       "    </tr>\n",
       "  </tbody>\n",
       "</table>\n",
       "</div>"
      ],
      "text/plain": [
       "label    BOTH  INSTALLMENTS  NONE  ONEOFF\n",
       "cluster                                  \n",
       "0           0             0  2042       0\n",
       "1        2774             0     0       0\n",
       "2           0          2260     0       0\n",
       "3           0             0     0    1874"
      ]
     },
     "execution_count": 189,
     "metadata": {},
     "output_type": "execute_result"
    }
   ],
   "source": [
    "# creating a Two way table to evaluate our cluuster\n",
    "pd.crosstab(conf.cluster,conf.label)"
   ]
  },
  {
   "cell_type": "markdown",
   "metadata": {},
   "source": [
    "### Output\n",
    "* On Using K-medoids we got the same cluster and there was no loss of information which was involved while using kmeans. "
   ]
  },
  {
   "cell_type": "code",
   "execution_count": null,
   "metadata": {},
   "outputs": [],
   "source": []
  },
  {
   "cell_type": "code",
   "execution_count": null,
   "metadata": {},
   "outputs": [],
   "source": []
  },
  {
   "cell_type": "code",
   "execution_count": null,
   "metadata": {},
   "outputs": [],
   "source": []
  },
  {
   "cell_type": "code",
   "execution_count": null,
   "metadata": {},
   "outputs": [],
   "source": []
  },
  {
   "cell_type": "code",
   "execution_count": null,
   "metadata": {},
   "outputs": [],
   "source": []
  },
  {
   "cell_type": "code",
   "execution_count": null,
   "metadata": {},
   "outputs": [],
   "source": []
  },
  {
   "cell_type": "code",
   "execution_count": null,
   "metadata": {},
   "outputs": [],
   "source": []
  },
  {
   "cell_type": "code",
   "execution_count": null,
   "metadata": {},
   "outputs": [],
   "source": []
  }
 ],
 "metadata": {
  "kernelspec": {
   "display_name": "Python 3",
   "language": "python",
   "name": "python3"
  },
  "language_info": {
   "codemirror_mode": {
    "name": "ipython",
    "version": 3
   },
   "file_extension": ".py",
   "mimetype": "text/x-python",
   "name": "python",
   "nbconvert_exporter": "python",
   "pygments_lexer": "ipython3",
   "version": "3.7.4"
  }
 },
 "nbformat": 4,
 "nbformat_minor": 2
}
